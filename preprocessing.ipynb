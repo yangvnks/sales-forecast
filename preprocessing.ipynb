{
 "cells": [
  {
   "cell_type": "markdown",
   "metadata": {},
   "source": [
    "# Preprocessing"
   ]
  },
  {
   "cell_type": "markdown",
   "metadata": {},
   "source": [
    "## Load Data"
   ]
  },
  {
   "cell_type": "code",
   "execution_count": 1,
   "metadata": {},
   "outputs": [],
   "source": [
    "%matplotlib inline\n",
    "import matplotlib.pyplot as plt\n",
    "import matplotlib \n",
    "import numpy as np\n",
    "import pandas as pd\n",
    "from pandas import Series, DataFrame\n",
    "import pickle\n",
    "import seaborn as sns\n",
    "from scipy.stats import skew\n",
    "from sklearn.preprocessing import LabelEncoder\n",
    "import datetime\n",
    "import math\n",
    "from tqdm import tqdm\n",
    "import os\n",
    "from sklearn.ensemble import RandomForestClassifier\n",
    "from sklearn.preprocessing import RobustScaler\n",
    "from sklearn.model_selection import cross_val_score,KFold\n",
    "from scipy.stats import skew, norm\n",
    "\n",
    "pd.set_option('display.max_columns', None) # no truncate columns"
   ]
  },
  {
   "cell_type": "code",
   "execution_count": 2,
   "metadata": {},
   "outputs": [],
   "source": [
    "# Environment settings\n",
    "data_path_out = 'Data/output/'\n",
    "    \n",
    "# Deserialize previously saved data from \"data-visualization\"\n",
    "df = {}\n",
    "for df_name in ['train', 'test','all','monthly']:\n",
    "    with open(data_path_out+df_name+'_dv.obj', 'rb') as file:\n",
    "        df[df_name] = pickle.load(file)\n",
    "        \n",
    "all_data = df['all']\n",
    "train = df['train']\n",
    "test = df['test']\n",
    "monthly_sales = df['monthly']"
   ]
  },
  {
   "cell_type": "markdown",
   "metadata": {},
   "source": [
    "## Drop columns"
   ]
  },
  {
   "cell_type": "markdown",
   "metadata": {},
   "source": [
    "### Max_Gust_SpeedKm_h"
   ]
  },
  {
   "cell_type": "code",
   "execution_count": 3,
   "metadata": {},
   "outputs": [],
   "source": [
    "all_data = all_data.drop('Max_Gust_SpeedKm_h', axis = 1)\n",
    "df['train'] = df['train'].drop('Max_Gust_SpeedKm_h', axis = 1)\n",
    "df['test'] = df['test'].drop('Max_Gust_SpeedKm_h', axis = 1)"
   ]
  },
  {
   "cell_type": "markdown",
   "metadata": {},
   "source": [
    "## Fill missing values"
   ]
  },
  {
   "cell_type": "markdown",
   "metadata": {},
   "source": [
    "### Events"
   ]
  },
  {
   "cell_type": "code",
   "execution_count": 4,
   "metadata": {},
   "outputs": [
    {
     "name": "stdout",
     "output_type": "stream",
     "text": [
      "There are 0 missing values of Events left\n"
     ]
    }
   ],
   "source": [
    "all_data.Events = all_data.Events.fillna('Normal')\n",
    "print (\"There are {} missing values of Events left\".format(all_data['Events'].isna().sum(),\n",
    "                                                                  all_data['Events'].isna().sum()/\n",
    "                                                                  all_data.shape[0]*100))"
   ]
  },
  {
   "cell_type": "markdown",
   "metadata": {},
   "source": [
    "### Visibility"
   ]
  },
  {
   "cell_type": "markdown",
   "metadata": {},
   "source": [
    "Since the Visibility has a high negative correlation  with Humidity, a good imputation method could be to group data by Humidity and use the median value to fill in missing values.\n",
    "\n",
    "Intuitively the minimum visibility corresponds to the maximum humidity and viceversa.\n",
    "\n",
    "Some humidity levels could not have visiblity values, so a good solution could be to take the mean between the two adiacent values"
   ]
  },
  {
   "cell_type": "code",
   "execution_count": 5,
   "metadata": {},
   "outputs": [
    {
     "name": "stderr",
     "output_type": "stream",
     "text": [
      "100%|██████████| 13959/13959 [00:16<00:00, 859.81it/s]\n",
      "100%|██████████| 13959/13959 [00:16<00:00, 864.13it/s]\n",
      "100%|██████████| 13959/13959 [00:16<00:00, 862.57it/s]"
     ]
    },
    {
     "name": "stdout",
     "output_type": "stream",
     "text": [
      "There are 0 missing values of Min_VisibilitykM left\n",
      "There are 0 missing values of Max_VisibilityKm left\n",
      "There are 0 missing values of Mean_VisibilityKm left\n"
     ]
    },
    {
     "name": "stderr",
     "output_type": "stream",
     "text": [
      "\n"
     ]
    },
    {
     "data": {
      "text/plain": [
       "32512"
      ]
     },
     "execution_count": 5,
     "metadata": {},
     "output_type": "execute_result"
    }
   ],
   "source": [
    "min_vis_dict=all_data.groupby('Max_Humidity')['Min_VisibilitykM'].apply(lambda x: x.median()).to_dict()\n",
    "max_vis_dict=all_data.groupby('Min_Humidity')['Max_VisibilityKm'].apply(lambda x: x.median()).to_dict()\n",
    "mean_vis_dict=all_data.groupby('Mean_Humidity')['Mean_VisibilityKm'].apply(lambda x: x.median()).to_dict()\n",
    "\n",
    "#Function that replaces missing values of the median with the mean of next and previous values\n",
    "def replace_nan_median(visdict_list):\n",
    "    for visdict in visdict_list:\n",
    "        item_list=[visdict[x] for x in visdict.keys()]\n",
    "        for val in range(len(item_list)):\n",
    "            if(math.isnan(item_list[val])):\n",
    "                prev_val = (val-1) < 0 and item_list[val+1]  or item_list[val-1]\n",
    "                next_val = (val+1) > len(item_list) and item_list[val-1] or item_list[val+1]\n",
    "                item_list[val] = float(int((prev_val + next_val)/2))\n",
    "        iterator = 0\n",
    "        for k,i in visdict.items():\n",
    "            visdict[k]=item_list[iterator]\n",
    "            iterator+=1\n",
    "\n",
    "#Function that replaces nan in the dataframe with the dictionary\n",
    "#value corresponding to the samples humidity level\n",
    "\n",
    "def replace_nan_df(col_name1,col_name2,dictionary):\n",
    "    nan_index=all_data[all_data[col_name1].isnull()].index.tolist()\n",
    "    for index in tqdm(nan_index):\n",
    "        humidty_lvl = all_data.loc[index,col_name2] \n",
    "        all_data.loc[index,col_name1] = dictionary[humidty_lvl]\n",
    "\n",
    "    \n",
    "        \n",
    "replace_nan_median([min_vis_dict,max_vis_dict,mean_vis_dict])\n",
    "\n",
    "#Replacing nan in dataframe \n",
    "replace_nan_df('Min_VisibilitykM','Max_Humidity',min_vis_dict)\n",
    "replace_nan_df('Max_VisibilityKm','Min_Humidity',max_vis_dict)\n",
    "replace_nan_df('Mean_VisibilityKm','Mean_Humidity',mean_vis_dict)\n",
    "\n",
    "for col in [\"Min_VisibilitykM\",\"Max_VisibilityKm\",\"Mean_VisibilityKm\"]:\n",
    "    print (\"There are {} missing values of {} left\".\n",
    "           format(all_data[col].isna().sum(),col))\n",
    "os.system('say \"Visibility Done.\"')"
   ]
  },
  {
   "cell_type": "markdown",
   "metadata": {},
   "source": [
    "# Cloud Cover"
   ]
  },
  {
   "cell_type": "code",
   "execution_count": 6,
   "metadata": {},
   "outputs": [
    {
     "name": "stdout",
     "output_type": "stream",
     "text": [
      "(519111, 69)\n",
      "(49599, 69)\n"
     ]
    },
    {
     "name": "stderr",
     "output_type": "stream",
     "text": [
      "[Parallel(n_jobs=1)]: Done  50 out of  50 | elapsed:   42.4s finished\n",
      "[Parallel(n_jobs=1)]: Done  50 out of  50 | elapsed:    1.0s finished\n",
      "[Parallel(n_jobs=1)]: Done  50 out of  50 | elapsed:   42.3s finished\n",
      "[Parallel(n_jobs=1)]: Done  50 out of  50 | elapsed:    1.0s finished\n",
      "[Parallel(n_jobs=1)]: Done  50 out of  50 | elapsed:   42.4s finished\n",
      "[Parallel(n_jobs=1)]: Done  50 out of  50 | elapsed:    1.0s finished\n",
      "[Parallel(n_jobs=1)]: Done  50 out of  50 | elapsed:   43.0s finished\n",
      "[Parallel(n_jobs=1)]: Done  50 out of  50 | elapsed:    1.0s finished\n",
      "[Parallel(n_jobs=1)]: Done  50 out of  50 | elapsed:   40.9s finished\n"
     ]
    },
    {
     "name": "stdout",
     "output_type": "stream",
     "text": [
      "The 10-fold crossvalidation of RF is 0.95677 +/- 0.086\n"
     ]
    },
    {
     "name": "stderr",
     "output_type": "stream",
     "text": [
      "[Parallel(n_jobs=1)]: Done  50 out of  50 | elapsed:    0.9s finished\n"
     ]
    }
   ],
   "source": [
    "rf =  RandomForestClassifier(n_estimators=50,verbose=True)\n",
    "cv_mode=True\n",
    "cloud_data = all_data.copy()\n",
    "cloud_data = pd.get_dummies(cloud_data)\n",
    "cloud_data['Date_delta'] = (cloud_data['Date'] - cloud_data['Date'].min())  / np.timedelta64(1,'D')\n",
    "cloud_data=cloud_data.drop('Date',axis=1)\n",
    "nan_indexes=cloud_data[cloud_data['CloudCover'].isnull()].index.tolist()\n",
    "good_indexes =cloud_data[~cloud_data['CloudCover'].isnull()].index.tolist()\n",
    "\n",
    "train_cloud = cloud_data.loc[good_indexes]\n",
    "test_cloud = cloud_data.loc[nan_indexes]\n",
    "print(train_cloud.shape)\n",
    "print(test_cloud.shape)\n",
    "\n",
    "X_train_cloud = train_cloud.copy()\n",
    "X_train_cloud = X_train_cloud.drop(['CloudCover'], axis=1)\n",
    "y_train_cloud = train_cloud['CloudCover']\n",
    "test_cloud = test_cloud.drop('CloudCover',axis=1)\n",
    "\n",
    "scaler = RobustScaler()\n",
    "X_train_cloud = scaler.fit_transform(X_train_cloud)\n",
    "test_cloud = scaler.transform(test_cloud)\n",
    "\n",
    "if(cv_mode):\n",
    "    kf = KFold(5, shuffle=True, random_state=42).get_n_splits(X_train_cloud)\n",
    "    score_CV= cross_val_score(rf, X_train_cloud, y_train_cloud, cv = kf)\n",
    "\n",
    "    print(\"The 10-fold crossvalidation of RF is {:.5f} +/- {:.3f}\".format(score_CV.mean(),score_CV.std()))\n",
    "    os.system('say \"Crossvalidation done.\"')"
   ]
  },
  {
   "cell_type": "code",
   "execution_count": 7,
   "metadata": {},
   "outputs": [
    {
     "name": "stderr",
     "output_type": "stream",
     "text": [
      "[Parallel(n_jobs=1)]: Done  50 out of  50 | elapsed:   50.7s finished\n",
      "[Parallel(n_jobs=1)]: Done  50 out of  50 | elapsed:    0.4s finished\n",
      "100%|██████████| 49599/49599 [00:57<00:00, 861.41it/s]\n"
     ]
    }
   ],
   "source": [
    "rf.fit(X_train_cloud,y_train_cloud)\n",
    "pred_results =rf.predict(test_cloud)\n",
    "nan_index=cloud_data[cloud_data['CloudCover'].isnull()].index.tolist()\n",
    "result_df = pd.DataFrame(data={'Index' : nan_index,\n",
    "                               'CloudCover': pred_results}).set_index('Index')\n",
    "#replace missing values\n",
    "for i in tqdm(nan_index):\n",
    "    all_data.loc[i,'CloudCover'] = result_df.loc[i,'CloudCover']"
   ]
  },
  {
   "cell_type": "markdown",
   "metadata": {},
   "source": [
    "## Region 2 missing values"
   ]
  },
  {
   "cell_type": "markdown",
   "metadata": {},
   "source": [
    "## New Features"
   ]
  },
  {
   "cell_type": "markdown",
   "metadata": {},
   "source": [
    "### Store is open and is holiday\n",
    "This feature has been added for those stores that are open during holidays: we want to inspect if the sales are higher in those days"
   ]
  },
  {
   "cell_type": "code",
   "execution_count": 8,
   "metadata": {},
   "outputs": [],
   "source": [
    "is_open_holiday =   all_data.IsHoliday & all_data.IsOpen\n",
    "all_data['Hol_and_open'] = is_open_holiday"
   ]
  },
  {
   "cell_type": "code",
   "execution_count": 9,
   "metadata": {},
   "outputs": [
    {
     "data": {
      "image/png": "[encoded data removed]",
      "text/plain": [
       "<matplotlib.figure.Figure at 0x7f0f4ba52860>"
      ]
     },
     "metadata": {},
     "output_type": "display_data"
    }
   ],
   "source": [
    "# For plotting reasons\n",
    "\n",
    "holidays_open_mask = train.IsHoliday & train.IsOpen\n",
    "open_mask = train['IsOpen'] == True\n",
    "not_holidays_mask =  train['IsHoliday'] == False\n",
    "not_holidays_open_mask = not_holidays_mask & open_mask\n",
    "\n",
    "df_holidays_open = train[holidays_open_mask].groupby(\"StoreID\")\n",
    "avg_sales_holidays = df_holidays_open.NumberOfSales.mean()\n",
    "avg_sales_holidays.plot(figsize=(16,8),legend=True,marker='o')\n",
    "\n",
    "\n",
    "df_not_holidays_open = train[not_holidays_open_mask].groupby(\"StoreID\")\n",
    "avg_sales_not_holidays = df_not_holidays_open.NumberOfSales.mean()\n",
    "avg_sales_not_holidays = avg_sales_not_holidays.filter(items = avg_sales_holidays.index)\n",
    "avg_sales_not_holidays.plot(figsize=(16,8),legend=True,marker='o');"
   ]
  },
  {
   "cell_type": "markdown",
   "metadata": {},
   "source": [
    "### Region's population density"
   ]
  },
  {
   "cell_type": "code",
   "execution_count": 10,
   "metadata": {},
   "outputs": [],
   "source": [
    "all_data['Region_PD'] = all_data.Region_PopulationK.div(all_data.Region_AreaKM2,axis=0)"
   ]
  },
  {
   "cell_type": "code",
   "execution_count": 11,
   "metadata": {},
   "outputs": [
    {
     "data": {
      "image/png": "[encoded data removed]",
      "text/plain": [
       "<matplotlib.figure.Figure at 0x7f0f480f4748>"
      ]
     },
     "metadata": {},
     "output_type": "display_data"
    }
   ],
   "source": [
    "plot_PD = all_data.groupby(\"Region\").Region_PD.mean().sort_values(ascending = False)\\\n",
    "        .plot(kind='bar', title='Population Density',figsize=(16,8));\n",
    "plot_PD.set_ylabel(\"K people / squared Km\");"
   ]
  },
  {
   "cell_type": "markdown",
   "metadata": {},
   "source": [
    "## Seasonality features"
   ]
  },
  {
   "cell_type": "code",
   "execution_count": 12,
   "metadata": {},
   "outputs": [],
   "source": [
    "all_data['year'] = all_data.Date.dt.year\n",
    "all_data['month'] = all_data.Date.dt.month\n",
    "all_data['day_of_month'] = all_data.Date.dt.day\n",
    "all_data['day_of_week'] = all_data.Date.dt.dayofweek\n",
    "all_data['day_of_year'] = all_data.Date.dt.dayofyear\n",
    "all_data['WeekOfYear'] = all_data.Date.dt.weekofyear\n",
    "all_data['days_in_month'] = all_data.Date.dt.daysinmonth"
   ]
  },
  {
   "cell_type": "markdown",
   "metadata": {},
   "source": [
    "## One-Hot encoding"
   ]
  },
  {
   "cell_type": "code",
   "execution_count": 13,
   "metadata": {},
   "outputs": [],
   "source": [
    "all_data = pd.get_dummies(all_data,columns=['Region','AssortmentType', 'StoreType', 'Events'])"
   ]
  },
  {
   "cell_type": "markdown",
   "metadata": {},
   "source": [
    "## New Features Holidays"
   ]
  },
  {
   "cell_type": "code",
   "execution_count": 14,
   "metadata": {},
   "outputs": [],
   "source": [
    "def num_of_features(regional_week_year,week,year,column_of_interest):\n",
    "    num_holidays=0\n",
    "\n",
    "    if week ==1:\n",
    "        week_before=[52,year-1]\n",
    "        week_after=[2,year]\n",
    "    if week == 52:\n",
    "        week_after=[1,year+1]\n",
    "        week_before=[51,year]\n",
    "    if (week>1) & (week<52):\n",
    "        week_before=[week-1,year]\n",
    "        week_after=[week+1,year]\n",
    "    \n",
    "    before_df = regional_week_year[(regional_week_year['WeekOfYear']==week_before[0])&\n",
    "                                  (regional_week_year['year']==week_before[1])]\n",
    "    \n",
    "    after_df = regional_week_year[(regional_week_year['WeekOfYear']==week_after[0])&\n",
    "                                  (regional_week_year['year']==week_after[1])]\n",
    "    this_df = regional_week_year[(regional_week_year['WeekOfYear']==week)&\n",
    "                                 (regional_week_year['year']==year)]\n",
    "    \n",
    "    num_ago = before_df[before_df[column_of_interest]][column_of_interest].sum()\n",
    "    num_next = after_df[after_df[column_of_interest]][column_of_interest].sum()\n",
    "    num_this = this_df[this_df[column_of_interest]][column_of_interest].sum()\n",
    "    \n",
    "    return num_ago,num_next,num_this\n",
    "\n",
    "def create_new_features(before,current,after,column_of_interest):\n",
    "    all_data[before] = 0\n",
    "    all_data[current]=0\n",
    "    all_data[after] = 0\n",
    "\n",
    "    region_list= [\"Region_\"+str(d) for d in range(0,11)]\n",
    "    for region in tqdm(region_list):\n",
    "        curr_region = all_data[all_data[region]==1]\n",
    "\n",
    "        #get all valid dates of that region\n",
    "        regional_week_year=curr_region[['WeekOfYear','year',column_of_interest]]\n",
    "\n",
    "        #get all store ids of that region\n",
    "        regional_stores=len(curr_region['StoreID'].unique())\n",
    "\n",
    "        week_year_list =regional_week_year[['WeekOfYear','year']].drop_duplicates().values.tolist()\n",
    "\n",
    "        for date in week_year_list:\n",
    "            num_ago,num_next,num_this = num_of_features(regional_week_year,\n",
    "                                                        date[0],\n",
    "                                                        date[1],\n",
    "                                                        column_of_interest)\n",
    "\n",
    "            all_data.at[((all_data['WeekOfYear']==date[0])&\n",
    "                         (all_data['year']==date[1])),before]=int(num_ago/regional_stores)\n",
    "            all_data.at[((all_data['WeekOfYear']==date[0])&\n",
    "                         (all_data['year']==date[1])),after]=int(num_next/regional_stores)\n",
    "            all_data.at[((all_data['WeekOfYear']==date[0])&\n",
    "                         (all_data['year']==date[1])),current]=int(num_this/regional_stores)"
   ]
  },
  {
   "cell_type": "code",
   "execution_count": 15,
   "metadata": {},
   "outputs": [
    {
     "name": "stderr",
     "output_type": "stream",
     "text": [
      "100%|██████████| 11/11 [01:03<00:00,  5.80s/it]\n",
      "100%|██████████| 11/11 [01:02<00:00,  5.71s/it]\n"
     ]
    }
   ],
   "source": [
    "create_new_features('HolidaysWeekBefore','HolidaysWeekCurrent','HolidaysWeekAfter','IsHoliday')\n",
    "create_new_features('PromoWeekBefore','PromoWeekCurrent','PromoWeekAfter','HasPromotions')"
   ]
  },
  {
   "cell_type": "markdown",
   "metadata": {},
   "source": [
    "## Restore Train and Test Set"
   ]
  },
  {
   "cell_type": "code",
   "execution_count": 16,
   "metadata": {},
   "outputs": [],
   "source": [
    "train_final = all_data[:train.shape[0]].copy()\n",
    "train_final['NumberOfSales'] = train.NumberOfSales\n",
    "train_final['NumberOfCustomers'] = train.NumberOfSales\n",
    "\n",
    "# extract the test examples (we don't have the class value for this)\n",
    "test_final = all_data[train.shape[0]:]"
   ]
  },
  {
   "cell_type": "code",
   "execution_count": 17,
   "metadata": {},
   "outputs": [
    {
     "name": "stderr",
     "output_type": "stream",
     "text": [
      "100%|██████████| 749/749 [00:01<00:00, 411.84it/s]\n"
     ]
    }
   ],
   "source": [
    "march_2016  = datetime.date(2016,3,31)\n",
    "monthly_sales['Differential'] = 0        \n",
    "        \n",
    "for storeID, store in tqdm(monthly_sales.groupby('StoreID')):\n",
    "    monthly_sales.loc[store.index,'one_step'] = store['NumberOfSales'].shift(1).fillna(0)\n",
    "    monthly_sales.loc[store.index,'two_steps'] = store['NumberOfSales'].shift(2).fillna(0)"
   ]
  },
  {
   "cell_type": "code",
   "execution_count": 18,
   "metadata": {},
   "outputs": [
    {
     "name": "stderr",
     "output_type": "stream",
     "text": [
      "17351it [10:28, 27.61it/s]\n"
     ]
    }
   ],
   "source": [
    "train_final['Differential'] = 0\n",
    "\n",
    "#correct one step in april\n",
    "april_mask = monthly_sales.Date.dt.month == 4\n",
    "year_mask = monthly_sales.Date.dt.year == 2016\n",
    "monthly_sales.loc[year_mask & april_mask,'one_step'] = 0\n",
    "\n",
    "#compute differential\n",
    "monthly_sales['Differential'] = monthly_sales['one_step'] - monthly_sales['two_steps']\n",
    "pippo = monthly_sales[['StoreID','Date','Differential']]\n",
    "\n",
    "#longest for ever - more than 10 mins - there must be a better way..\n",
    "for index,row in tqdm(pippo.iterrows()):\n",
    "    differential = row.Differential\n",
    "    month = row.Date.month\n",
    "    year = row.Date.year\n",
    "    store = row.StoreID\n",
    "    month_mask = train_final.Date.dt.month == month\n",
    "    year_mask = train_final.Date.dt.year == year\n",
    "    store_mask = train_final.StoreID == store\n",
    "    \n",
    "    train_final.loc[store_mask & year_mask & month_mask,'Differential'] = differential\n"
   ]
  },
  {
   "cell_type": "code",
   "execution_count": 20,
   "metadata": {},
   "outputs": [],
   "source": [
    "# train_final.to_csv(data_path_out+'train_final.csv')\n",
    "# test_final.to_csv(data_path_out+'test_final.csv')\n",
    "\n",
    "# Serialize dataframes for later use in implementations\n",
    "with open(data_path_out+'train_pp.obj', 'wb') as file:\n",
    "        pickle.dump(train_final, file)\n",
    "# with open(data_path_in+'test_pp.obj', 'wb') as file:\n",
    "#         pickle.dump(test_clean, file)"
   ]
  },
  {
   "cell_type": "code",
   "execution_count": null,
   "metadata": {},
   "outputs": [],
   "source": []
  }
 ],
 "metadata": {
  "kernelspec": {
   "display_name": "Python 3",
   "language": "python",
   "name": "python3"
  },
  "language_info": {
   "codemirror_mode": {
    "name": "ipython",
    "version": 3
   },
   "file_extension": ".py",
   "mimetype": "text/x-python",
   "name": "python",
   "nbconvert_exporter": "python",
   "pygments_lexer": "ipython3",
   "version": "3.6.4"
  }
 },
 "nbformat": 4,
 "nbformat_minor": 2
}
