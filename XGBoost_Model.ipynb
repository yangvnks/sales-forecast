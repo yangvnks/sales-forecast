{
 "cells": [
  {
   "cell_type": "markdown",
   "metadata": {},
   "source": [
    "# XGBoost"
   ]
  },
  {
   "cell_type": "markdown",
   "metadata": {},
   "source": [
    "## Load data"
   ]
  },
  {
   "cell_type": "code",
   "execution_count": 1,
   "metadata": {},
   "outputs": [],
   "source": [
    "%matplotlib inline\n",
    "import matplotlib.pyplot as plt\n",
    "import matplotlib \n",
    "import numpy as np\n",
    "import pandas as pd\n",
    "from pandas import Series, DataFrame\n",
    "import pickle\n",
    "from xgboost import plot_importance\n",
    "from xgboost.sklearn import XGBRegressor\n",
    "from sklearn.preprocessing import RobustScaler\n",
    "from sklearn.model_selection import KFold, cross_val_score, GridSearchCV\n",
    "from sklearn.metrics import r2_score\n",
    "\n",
    "pd.set_option('display.max_columns', None) # no truncate columns"
   ]
  },
  {
   "cell_type": "code",
   "execution_count": 2,
   "metadata": {},
   "outputs": [],
   "source": [
    "# Environment settings\n",
    "data_path_out = 'Data/output/'\n",
    "    \n",
    "# Deserialize previously saved data from \"preprocessing\"\n",
    "with open(data_path_out + 'train_pp.obj', 'rb') as file:\n",
    "    train = pickle.load(file)\n",
    "with open(data_path_out + 'test_pp.obj', 'rb') as file:\n",
    "    test = pickle.load(file)"
   ]
  },
  {
   "cell_type": "markdown",
   "metadata": {},
   "source": [
    "## Utilities"
   ]
  },
  {
   "cell_type": "code",
   "execution_count": 3,
   "metadata": {},
   "outputs": [],
   "source": [
    "# categorized feature lists to ease the preprocessing\n",
    "filter_startswith = lambda l,s: [x for x in l if x.startswith(s)]\n",
    "\n",
    "# regional features\n",
    "r_regions = ['Region_'+str(i) for i in range(11)]\n",
    "r_assortments = filter_startswith(train.columns, 'AssortmentType_')\n",
    "r_storetype = filter_startswith(train.columns, 'StoreType_')\n",
    "r_general = ['NearestCompetitor', 'Region_AreaKM2', 'Region_GDP', 'Region_PopulationK', 'Region_PD']\n",
    "regional_features =  r_regions + r_assortments + r_storetype + r_general\n",
    "\n",
    "# meteo features\n",
    "m_events = filter_startswith(train.columns, 'Events_')\n",
    "m_general = ['CloudCover', 'Max_Dew_PointC', 'Max_Humidity', 'Max_Sea_Level_PressurehPa',\n",
    "             'Max_TemperatureC', 'Max_VisibilityKm', 'Max_Wind_SpeedKm_h',\n",
    "             'Mean_Dew_PointC', 'Mean_Humidity', 'Mean_Sea_Level_PressurehPa',\n",
    "             'Mean_TemperatureC', 'Mean_VisibilityKm', 'Mean_Wind_SpeedKm_h',\n",
    "             'Min_Dew_PointC', 'Min_Humidity', 'Min_Sea_Level_PressurehPa',\n",
    "             'Min_TemperatureC', 'Min_VisibilitykM', 'Precipitationmm',\n",
    "             'WindDirDegrees']\n",
    "meteo_features =  m_events + m_general\n",
    "\n",
    "# store features\n",
    "store_features = ['IsHoliday', 'IsOpen', 'HasPromotions', 'Hol_and_open']\n",
    "\n",
    "# seasonal features\n",
    "seasonal_features = ['week_of_month', 'year', 'quarter', 'month', 'day_of_month',\n",
    "                     'day_of_week', 'day_of_year', 'WeekOfYear', 'days_in_month',\n",
    "                     'HolidaysWeekBefore', 'HolidaysWeekCurrent', 'HolidaysWeekAfter',\n",
    "                     'PromoWeekBefore', 'PromoWeekCurrent', 'PromoWeekAfter']\n",
    "\n",
    "# x and y specific\n",
    "x_features = ['StoreID']\n",
    "y_features = ['NumberOfSales']"
   ]
  },
  {
   "cell_type": "code",
   "execution_count": 4,
   "metadata": {},
   "outputs": [],
   "source": [
    "# split train set in x and y\n",
    "def split_dataset(dataset):\n",
    "    x = dataset.drop('NumberOfSales', axis=1)\n",
    "    y = dataset.NumberOfSales\n",
    "    \n",
    "    return (x, y)\n",
    "\n",
    "# split train set by months\n",
    "def split_dataset_bymonth(test_year, test_months, train_set):\n",
    "    test_mask = (train_set.year == test_year) & train_set.month.isin(test_months)\n",
    "\n",
    "    # define the train set\n",
    "    train_dataset = train_set[~test_mask]\n",
    "    x_train, y_train = split_dataset(train_dataset)\n",
    "    \n",
    "    # define the test set\n",
    "    test_dataset = train_set[test_mask]\n",
    "    x_test, y_test = split_dataset(test_dataset)\n",
    "    \n",
    "    return (x_train, y_train, x_test, y_test)"
   ]
  },
  {
   "cell_type": "code",
   "execution_count": 5,
   "metadata": {},
   "outputs": [],
   "source": [
    "# reorder results monthly wrt regions, stores pairing predictions with actual values\n",
    "def get_regional_results(results, x, y=0):\n",
    "    # create the dataframe and round predicted values to int\n",
    "    df_results = x[['StoreID', 'month'] + r_regions].copy()\n",
    "    df_results['predicted'] = results.astype(int)\n",
    "    \n",
    "    # create 'actual' values column if passed\n",
    "    if isinstance(y, int):\n",
    "        agg_dict = {'predicted': 'sum'}\n",
    "    else:\n",
    "        agg_dict = {'predicted': 'sum', 'actual': 'sum'}\n",
    "        df_results['actual'] = y.astype(int)\n",
    "    \n",
    "    # aggregate prediction monthly\n",
    "    df_results = df_results.groupby(['StoreID', 'month']+r_regions)\\\n",
    "    .agg(agg_dict).reset_index()\n",
    "    \n",
    "    # reverse region one-hot-encoding\n",
    "    df_results['region'] = df_results[r_regions].idxmax(axis=1)\\\n",
    "    .map(lambda x: str(x).replace('Region_', ''))\n",
    "    df_results = df_results.drop(r_regions, axis=1)\n",
    "    \n",
    "    df_results = df_results.sort_values(by=['region', 'StoreID', 'month'])\\\n",
    "    .reset_index().drop('index', axis=1)    \n",
    "    \n",
    "    return df_results\n",
    "\n",
    "# format format suitable for the submission of the project\n",
    "def get_submission_format(regional_results):\n",
    "    submit_results = regional_results.copy()\n",
    "    \n",
    "    # drop region column and reorder wrt storeid and month\n",
    "    submit_results = submit_results.drop('region', axis=1)\\\n",
    "    .sort_values(by=['StoreID', 'month'])\\\n",
    "    .reset_index().drop('index', axis=1)\n",
    "    \n",
    "    return submit_results"
   ]
  },
  {
   "cell_type": "code",
   "execution_count": 6,
   "metadata": {},
   "outputs": [],
   "source": [
    "# Lanzi error\n",
    "\n",
    "# Regional error\n",
    "# DataFrame: 'StoreID' 'month' 'predicted' 'actual' 'region'\n",
    "def lanzi_region_error(region):\n",
    "    num = region[['actual', 'predicted']].apply(lambda x: abs(x[0] - x[1]), axis=1).sum()\n",
    "    den = region['actual'].sum()\n",
    "    \n",
    "    return num/den\n",
    "    \n",
    "# Total error across all regions\n",
    "# region_errors = [0.3, 0.5, ... ]\n",
    "def lanzi_total_error(region_errors):\n",
    "    return sum(region_errors)/len(region_errors)\n",
    "\n",
    "def lanzi_error(regional_results):\n",
    "    region_errors = []\n",
    "    for regionid, region in regional_results.groupby('region'):\n",
    "        region_errors.append(lanzi_region_error(region))\n",
    "    \n",
    "    return (region_errors, lanzi_total_error(region_errors))\n",
    "\n",
    "# Print results of Lanzi error\n",
    "def lanzi_print(r_error, t_error):\n",
    "    print('LANZI ERROR')\n",
    "    print('-' * 20) \n",
    "    print('{:<10}{:>10}'.format('REGION', 'ERROR'))\n",
    "    \n",
    "    for regionid, error in enumerate(r_error):\n",
    "        print('{:<10}{:>10.4f}'.format(regionid, error))\n",
    "    print('-' * 20)\n",
    "    print('{:<10}{:>10.4f}'.format('TOTAL', t_error))"
   ]
  },
  {
   "cell_type": "markdown",
   "metadata": {},
   "source": [
    "## Preprocessing"
   ]
  },
  {
   "cell_type": "code",
   "execution_count": 7,
   "metadata": {},
   "outputs": [],
   "source": [
    "# Robust Scaler\n",
    "rs = RobustScaler()\n",
    "\n",
    "features_to_scale = r_general + m_general\n",
    "\n",
    "train[features_to_scale] = rs.fit_transform(train[features_to_scale])\n",
    "test[features_to_scale] = rs.fit_transform(test[features_to_scale])"
   ]
  },
  {
   "cell_type": "code",
   "execution_count": 8,
   "metadata": {},
   "outputs": [],
   "source": [
    "# drop useless features\n",
    "features_to_drop = m_general + ['Region', 'Date']\n",
    "\n",
    "train = train.drop(labels=features_to_drop, axis=1)\n",
    "test = test.drop(labels=features_to_drop, axis=1)"
   ]
  },
  {
   "cell_type": "markdown",
   "metadata": {},
   "source": [
    "## Train and predict"
   ]
  },
  {
   "cell_type": "code",
   "execution_count": 9,
   "metadata": {},
   "outputs": [],
   "source": [
    "# settings\n",
    "xgboost_params = {    \n",
    "    'max_depth': 12,\n",
    "    'learning_rate': 0.2,\n",
    "    'n_jobs': 4,\n",
    "    'silent': False\n",
    "}\n",
    "\n",
    "kfold_params = {\n",
    "    'n_splits': 5,\n",
    "    'shuffle': True,\n",
    "    'random_state': 42\n",
    "}"
   ]
  },
  {
   "cell_type": "code",
   "execution_count": 10,
   "metadata": {},
   "outputs": [
    {
     "name": "stdout",
     "output_type": "stream",
     "text": [
      "[CV]  ................................................................\n",
      "[CV] ................................................. , total= 1.5min\n",
      "[CV]  ................................................................\n"
     ]
    },
    {
     "name": "stderr",
     "output_type": "stream",
     "text": [
      "[Parallel(n_jobs=1)]: Done   1 out of   1 | elapsed:  1.5min remaining:    0.0s\n"
     ]
    },
    {
     "name": "stdout",
     "output_type": "stream",
     "text": [
      "[CV] ................................................. , total= 1.5min\n",
      "[CV]  ................................................................\n",
      "[CV] ................................................. , total= 1.5min\n",
      "[CV]  ................................................................\n",
      "[CV] ................................................. , total= 1.5min\n",
      "[CV]  ................................................................\n",
      "[CV] ................................................. , total= 1.5min\n",
      "Cross-validation score: 0.9689 with +/- 0.0006\n"
     ]
    },
    {
     "name": "stderr",
     "output_type": "stream",
     "text": [
      "[Parallel(n_jobs=1)]: Done   5 out of   5 | elapsed:  7.5min finished\n"
     ]
    }
   ],
   "source": [
    "# Cross validation score\n",
    "x_train, y_train = split_dataset(train)\n",
    "\n",
    "model = XGBRegressor(**xgboost_params)\n",
    "kfold = KFold(**kfold_params)\n",
    "results = cross_val_score(model, x_train, y_train, scoring='r2', cv=kfold, verbose=2)\n",
    "\n",
    "print('Cross-validation score: {:.4f} with +/- {:.4f}'\\\n",
    "      .format(results.mean(),results.std()))"
   ]
  },
  {
   "cell_type": "code",
   "execution_count": 11,
   "metadata": {},
   "outputs": [
    {
     "data": {
      "image/png": "[encoded data removed]",
      "text/plain": [
       "<Figure size 1440x864 with 1 Axes>"
      ]
     },
     "metadata": {},
     "output_type": "display_data"
    }
   ],
   "source": [
    "# Feature importance plot\n",
    "model.fit(x_train, y_train)\n",
    "fig, ax = plt.subplots(1, 1, figsize=(20, 12))\n",
    "plot_importance(model, ax=ax)\n",
    "plt.show()"
   ]
  },
  {
   "cell_type": "code",
   "execution_count": 12,
   "metadata": {},
   "outputs": [],
   "source": [
    "# results = {}\n",
    "# for storeid in all_train.StoreID.unique():\n",
    "#     train = all_train[all_train.StoreID == storeid]\n",
    "#     y_train = train.NumberOfSales\n",
    "#     x_train = train.drop('NumberOfSales',axis = 1)\n",
    "    \n",
    "#     model = XGBRegressor(silent=False)\n",
    "#     kfold = KFold(n_splits=10, shuffle = True, random_state=7)\n",
    "#     results[storeid] = cross_val_score(model, x_train, y_train, scoring='r2', cv=kfold)\n",
    "#     print('Cross-validation for {} -> score: {:.4f} with +/- {:.4f}'\\\n",
    "#           .format(storeid,results[storeid].mean(),results[storeid].std()))"
   ]
  },
  {
   "cell_type": "code",
   "execution_count": 13,
   "metadata": {},
   "outputs": [],
   "source": [
    "# df_results = pd.DataFrame.from_dict(results).T\n",
    "# df_results_mean = df_results.mean(axis=1)\n",
    "# df_results_mean[df_results_mean < 0.8]"
   ]
  },
  {
   "cell_type": "markdown",
   "metadata": {},
   "source": [
    "## Lanzi Error"
   ]
  },
  {
   "cell_type": "code",
   "execution_count": 14,
   "metadata": {},
   "outputs": [],
   "source": [
    "# Split train set and predict the test set\n",
    "x_train, y_train, x_test, y_test =\\\n",
    "    split_dataset_bymonth(2017, [3, 4], train)\n",
    "\n",
    "model = XGBRegressor(**xgboost_params)\n",
    "model.fit(x_train, y_train)\n",
    "\n",
    "results = model.predict(x_test)"
   ]
  },
  {
   "cell_type": "code",
   "execution_count": 15,
   "metadata": {},
   "outputs": [
    {
     "data": {
      "text/html": [
       "<div>\n",
       "<style scoped>\n",
       "    .dataframe tbody tr th:only-of-type {\n",
       "        vertical-align: middle;\n",
       "    }\n",
       "\n",
       "    .dataframe tbody tr th {\n",
       "        vertical-align: top;\n",
       "    }\n",
       "\n",
       "    .dataframe thead th {\n",
       "        text-align: right;\n",
       "    }\n",
       "</style>\n",
       "<table border=\"1\" class=\"dataframe\">\n",
       "  <thead>\n",
       "    <tr style=\"text-align: right;\">\n",
       "      <th></th>\n",
       "      <th>StoreID</th>\n",
       "      <th>month</th>\n",
       "      <th>predicted</th>\n",
       "      <th>actual</th>\n",
       "      <th>region</th>\n",
       "    </tr>\n",
       "  </thead>\n",
       "  <tbody>\n",
       "    <tr>\n",
       "      <th>0</th>\n",
       "      <td>1001</td>\n",
       "      <td>3</td>\n",
       "      <td>69248</td>\n",
       "      <td>70708</td>\n",
       "      <td>0</td>\n",
       "    </tr>\n",
       "    <tr>\n",
       "      <th>1</th>\n",
       "      <td>1001</td>\n",
       "      <td>4</td>\n",
       "      <td>71846</td>\n",
       "      <td>67093</td>\n",
       "      <td>0</td>\n",
       "    </tr>\n",
       "    <tr>\n",
       "      <th>2</th>\n",
       "      <td>1009</td>\n",
       "      <td>3</td>\n",
       "      <td>133258</td>\n",
       "      <td>130890</td>\n",
       "      <td>0</td>\n",
       "    </tr>\n",
       "    <tr>\n",
       "      <th>3</th>\n",
       "      <td>1009</td>\n",
       "      <td>4</td>\n",
       "      <td>117415</td>\n",
       "      <td>116915</td>\n",
       "      <td>0</td>\n",
       "    </tr>\n",
       "    <tr>\n",
       "      <th>4</th>\n",
       "      <td>1019</td>\n",
       "      <td>3</td>\n",
       "      <td>114929</td>\n",
       "      <td>113892</td>\n",
       "      <td>0</td>\n",
       "    </tr>\n",
       "  </tbody>\n",
       "</table>\n",
       "</div>"
      ],
      "text/plain": [
       "   StoreID  month  predicted  actual region\n",
       "0     1001      3      69248   70708      0\n",
       "1     1001      4      71846   67093      0\n",
       "2     1009      3     133258  130890      0\n",
       "3     1009      4     117415  116915      0\n",
       "4     1019      3     114929  113892      0"
      ]
     },
     "execution_count": 15,
     "metadata": {},
     "output_type": "execute_result"
    }
   ],
   "source": [
    "# get monthly results ordered by region, store and month\n",
    "regional_results = get_regional_results(results, x_test, y_test)\n",
    "regional_results.head()"
   ]
  },
  {
   "cell_type": "code",
   "execution_count": 16,
   "metadata": {},
   "outputs": [
    {
     "name": "stdout",
     "output_type": "stream",
     "text": [
      "LANZI ERROR\n",
      "--------------------\n",
      "REGION         ERROR\n",
      "0             0.0352\n",
      "1             0.0356\n",
      "2             0.0380\n",
      "3             0.0353\n",
      "4             0.0337\n",
      "5             0.0386\n",
      "6             0.0335\n",
      "7             0.0376\n",
      "8             0.0361\n",
      "9             0.0299\n",
      "10            0.0308\n",
      "--------------------\n",
      "TOTAL         0.0349\n"
     ]
    }
   ],
   "source": [
    "# get lanzi error and print results\n",
    "r_error, t_error = lanzi_error(regional_results)\n",
    "lanzi_print(r_error, t_error)"
   ]
  },
  {
   "cell_type": "markdown",
   "metadata": {},
   "source": [
    "## Score submit"
   ]
  },
  {
   "cell_type": "code",
   "execution_count": 17,
   "metadata": {},
   "outputs": [],
   "source": [
    "# Split train set and predict the submission test set\n",
    "x_train, y_train = split_dataset(train)\n",
    "\n",
    "model = XGBRegressor(**xgboost_params)\n",
    "model.fit(x_train, y_train)\n",
    "\n",
    "submit_results = model.predict(test)"
   ]
  },
  {
   "cell_type": "code",
   "execution_count": 18,
   "metadata": {},
   "outputs": [
    {
     "name": "stdout",
     "output_type": "stream",
     "text": [
      "(1498, 3)\n"
     ]
    },
    {
     "data": {
      "text/html": [
       "<div>\n",
       "<style scoped>\n",
       "    .dataframe tbody tr th:only-of-type {\n",
       "        vertical-align: middle;\n",
       "    }\n",
       "\n",
       "    .dataframe tbody tr th {\n",
       "        vertical-align: top;\n",
       "    }\n",
       "\n",
       "    .dataframe thead th {\n",
       "        text-align: right;\n",
       "    }\n",
       "</style>\n",
       "<table border=\"1\" class=\"dataframe\">\n",
       "  <thead>\n",
       "    <tr style=\"text-align: right;\">\n",
       "      <th></th>\n",
       "      <th>StoreID</th>\n",
       "      <th>month</th>\n",
       "      <th>predicted</th>\n",
       "    </tr>\n",
       "  </thead>\n",
       "  <tbody>\n",
       "    <tr>\n",
       "      <th>0</th>\n",
       "      <td>1000</td>\n",
       "      <td>3</td>\n",
       "      <td>153183</td>\n",
       "    </tr>\n",
       "    <tr>\n",
       "      <th>1</th>\n",
       "      <td>1000</td>\n",
       "      <td>4</td>\n",
       "      <td>148303</td>\n",
       "    </tr>\n",
       "    <tr>\n",
       "      <th>2</th>\n",
       "      <td>1001</td>\n",
       "      <td>3</td>\n",
       "      <td>89569</td>\n",
       "    </tr>\n",
       "    <tr>\n",
       "      <th>3</th>\n",
       "      <td>1001</td>\n",
       "      <td>4</td>\n",
       "      <td>88391</td>\n",
       "    </tr>\n",
       "    <tr>\n",
       "      <th>4</th>\n",
       "      <td>1002</td>\n",
       "      <td>3</td>\n",
       "      <td>116887</td>\n",
       "    </tr>\n",
       "  </tbody>\n",
       "</table>\n",
       "</div>"
      ],
      "text/plain": [
       "   StoreID  month  predicted\n",
       "0     1000      3     153183\n",
       "1     1000      4     148303\n",
       "2     1001      3      89569\n",
       "3     1001      4      88391\n",
       "4     1002      3     116887"
      ]
     },
     "execution_count": 18,
     "metadata": {},
     "output_type": "execute_result"
    }
   ],
   "source": [
    "# get monthly results and format it for submission\n",
    "submit_regional_results = get_regional_results(submit_results, test)\n",
    "df_submission = get_submission_format(submit_regional_results)\n",
    "\n",
    "print(df_submission.shape)\n",
    "df_submission.head()"
   ]
  },
  {
   "cell_type": "code",
   "execution_count": 19,
   "metadata": {},
   "outputs": [],
   "source": [
    "# write submission csv\n",
    "df_submission.to_csv(data_path_out+'submission.csv', index=False)"
   ]
  }
 ],
 "metadata": {
  "kernelspec": {
   "display_name": "Python 3",
   "language": "python",
   "name": "python3"
  },
  "language_info": {
   "codemirror_mode": {
    "name": "ipython",
    "version": 3
   },
   "file_extension": ".py",
   "mimetype": "text/x-python",
   "name": "python",
   "nbconvert_exporter": "python",
   "pygments_lexer": "ipython3",
   "version": "3.6.5"
  }
 },
 "nbformat": 4,
 "nbformat_minor": 2
}
