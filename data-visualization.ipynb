{
 "cells": [
  {
   "cell_type": "markdown",
   "metadata": {},
   "source": [
    "# DATA VISUALIZATION\n",
    "## Load Data"
   ]
  },
  {
   "cell_type": "code",
   "execution_count": 1,
   "metadata": {},
   "outputs": [],
   "source": [
    "%matplotlib inline\n",
    "import matplotlib.pyplot as plt\n",
    "import matplotlib \n",
    "import numpy as np\n",
    "import pandas as pd\n",
    "from pandas import Series, DataFrame\n",
    "import seaborn as sns\n",
    "from scipy.stats import skew\n",
    "from sklearn.preprocessing import LabelEncoder\n",
    "import datetime\n",
    "import pickle\n",
    "\n",
    "pd.set_option('display.max_columns', None) # no truncate columns"
   ]
  },
  {
   "cell_type": "code",
   "execution_count": null,
   "metadata": {},
   "outputs": [],
   "source": [
    "#Environment settings\n",
    "data_path_in = 'Data/input/'\n",
    "data_path_out = 'Data/output/'\n",
    "\n",
    "data_type = {\n",
    "    'StoreID': 'uint16',\n",
    "    'Date': str,\n",
    "    'IsHoliday': bool,\n",
    "    'IsOpen': bool,\n",
    "    'HasPromotions': bool,\n",
    "    'StoreType': 'category',\n",
    "    'AssortmentType': 'category',\n",
    "    'NearestCompetitor': 'uint32',\n",
    "    'Region': 'category',\n",
    "    'NumberOfCustomers': 'uint16',\n",
    "    'NumberOfSales': 'uint16',\n",
    "    'Region_AreaKM2': 'uint16',\n",
    "    'Region_GDP': 'uint16',\n",
    "    'Region_PopulationK': 'uint16',\n",
    "    'CloudCover': 'float32',\n",
    "    'Events': 'category',\n",
    "    'Max_Dew_PointC': 'int8',\n",
    "    'Max_Gust_SpeedKm_h': float, # 'uint8'\n",
    "    'Max_Humidity': 'uint8',\n",
    "    'Max_Sea_Level_PressurehPa': 'uint16',\n",
    "    'Max_TemperatureC': 'int8',\n",
    "    'Max_VisibilityKm': float, # 'uint8'\n",
    "    'Max_Wind_SpeedKm_h': 'uint8',\n",
    "    'Mean_Dew_PointC': 'int8',\n",
    "    'Mean_Humidity': 'uint8',\n",
    "    'Mean_Sea_Level_PressurehPa': 'uint16',\n",
    "    'Mean_TemperatureC': 'int8',\n",
    "    'Mean_VisibilityKm': float, # 'uint8'\n",
    "    'Mean_Wind_SpeedKm_h': 'uint8',\n",
    "    'Min_Dew_PointC': 'int8',\n",
    "    'Min_Humidity': 'uint8',\n",
    "    'Min_Sea_Level_PressurehPa': 'uint16',\n",
    "    'Min_TemperatureC': 'int8',\n",
    "    'Min_VisibilitykM': float, #'uint8'\n",
    "    'Precipitationmm': 'float16',\n",
    "    'WindDirDegrees': 'int16'\n",
    "}\n",
    "\n",
    "# load and serialize dataframes for later use in preprocessing notebook\n",
    "df = {}\n",
    "for ds_name in ['train', 'test']:\n",
    "    df[ds_name] = pd.read_csv(data_path_in+ds_name+'.csv', dtype=data_type, parse_dates=[\"Date\"], dayfirst=True)\n",
    "    with open(data_path_out+ds_name+'_dv.obj', 'wb') as file:\n",
    "        pickle.dump(df, file)\n",
    "\n",
    "train = df['train']\n",
    "test = df['test']"
   ]
  },
  {
   "cell_type": "code",
   "execution_count": null,
   "metadata": {},
   "outputs": [],
   "source": [
    "print(\"Train set has shape {}.\\nTest set has shape {}\" .format(train.shape, test.shape))"
   ]
  },
  {
   "cell_type": "markdown",
   "metadata": {},
   "source": [
    "## Combining train & test data"
   ]
  },
  {
   "cell_type": "code",
   "execution_count": null,
   "metadata": {},
   "outputs": [],
   "source": [
    "X = train.copy()\n",
    "X = X.drop(columns=['NumberOfCustomers', 'NumberOfSales'], axis=1)\n",
    "y = train.loc[:, 'NumberOfCustomers':'NumberOfSales']\n",
    "\n",
    "all_data = pd.concat([X, test], axis=0).reset_index()\n",
    "\n",
    "#to restore the original column order\n",
    "all_data = all_data[list(test.columns.values)]\n",
    "all_data.head(10)\n"
   ]
  },
  {
   "cell_type": "markdown",
   "metadata": {
    "collapsed": true
   },
   "source": [
    "## 1. Numerical features"
   ]
  },
  {
   "cell_type": "code",
   "execution_count": null,
   "metadata": {},
   "outputs": [],
   "source": [
    "numeric_features = all_data.select_dtypes(include=[np.number])\n",
    "\n",
    "print(\"There are {} numeric features ({:.2f}% of total) \".format(numeric_features.shape[1],\n",
    "                                                                 (numeric_features.shape[1]/\n",
    "                                                                  all_data.shape[1])*100))"
   ]
  },
  {
   "cell_type": "code",
   "execution_count": null,
   "metadata": {},
   "outputs": [],
   "source": [
    "all_data.describe()"
   ]
  },
  {
   "cell_type": "markdown",
   "metadata": {},
   "source": [
    "### Date manipulation"
   ]
  },
  {
   "cell_type": "code",
   "execution_count": null,
   "metadata": {},
   "outputs": [],
   "source": [
    "all_data.Date.head()"
   ]
  },
  {
   "cell_type": "code",
   "execution_count": null,
   "metadata": {},
   "outputs": [],
   "source": [
    "# Missing values\n",
    "plt.figure(figsize=(15,6))\n",
    "rows_length = numeric_features.shape[0]\n",
    "numeric_nan_length = numeric_features.isna().sum().where(lambda x : x > 0).dropna()\n",
    "numeric_nan_length = numeric_nan_length.sort_values()\n",
    "ax = numeric_nan_length \\\n",
    ".plot(kind='barh', alpha=0.9, title='Missing values count', table=True)\n",
    "ax.xaxis.set_visible(False) # hide x axis labels"
   ]
  },
  {
   "cell_type": "markdown",
   "metadata": {},
   "source": [
    "### Max_Gust_SpeedKm_h"
   ]
  },
  {
   "cell_type": "code",
   "execution_count": null,
   "metadata": {},
   "outputs": [],
   "source": [
    "all_data = all_data.drop('Max_Gust_SpeedKm_h', axis=1)\n",
    "all_data.shape"
   ]
  },
  {
   "cell_type": "markdown",
   "metadata": {},
   "source": [
    "### CloudCover & Visibility"
   ]
  },
  {
   "cell_type": "code",
   "execution_count": null,
   "metadata": {},
   "outputs": [],
   "source": [
    "nan_index = all_data[all_data['CloudCover'].isnull()].index.tolist()\n",
    "# for i in nan_index:\n",
    "#     curr_date = all_data.loc[i,'Date']\n",
    "#     curr_region = all_data.loc[i,'Region']\n",
    "#     regional_stores = all_data[(all_data.Date == curr_date) & (all_data.Region == curr_region)]\n",
    "#     curr_mode = regional_stores['CloudCover'].mode()\n"
   ]
  },
  {
   "cell_type": "markdown",
   "metadata": {},
   "source": [
    "# "
   ]
  },
  {
   "cell_type": "markdown",
   "metadata": {},
   "source": [
    "### Time - sales visualization"
   ]
  },
  {
   "cell_type": "code",
   "execution_count": null,
   "metadata": {},
   "outputs": [],
   "source": [
    "stores = {}\n",
    "for storeid in train.StoreID.unique():\n",
    "    stores[storeid] = pd.DataFrame(train[train[\"StoreID\"] == storeid])\n",
    "    stores[storeid] = stores[storeid].set_index(\"Date\")"
   ]
  },
  {
   "cell_type": "code",
   "execution_count": null,
   "metadata": {},
   "outputs": [],
   "source": [
    "#ax = stores[1000].plot(y=\"NumberOfSales\",figsize=(20,10))\n",
    "#for key,store in stores.items():\n",
    "#    store.plot(ax=ax, y=\"NumberOfSales\")"
   ]
  },
  {
   "cell_type": "code",
   "execution_count": null,
   "metadata": {},
   "outputs": [],
   "source": [
    "train_byRegion = train.groupby('Region')\n",
    "\n",
    "plt.figure(figsize=(200,100))\n",
    "for region,regStores in train_byRegion:\n",
    "    print(region)\n",
    "    \n",
    "    ax = plt.subplot2grid((11,1),(int(region), 0))\n",
    "    \n",
    "    for key, store in regStores.groupby('StoreID'):\n",
    "        store = store.set_index(\"Date\")\n",
    "        store.NumberOfSales.resample('M').sum().plot(ax = ax, figsize=(20,100),legend=False)\n",
    "        #store.groupby(pd.Grouper(freq='M')).plot(ax = ax, x=\"Date\", y=\"NumberOfSales\",figsize=(20,100),legend=False)\n",
    "        #sns.tsplot(data=store, time='Date', value='NumberOfSales')\n",
    "        \n",
    "    plt.show()\n",
    "    "
   ]
  },
  {
   "cell_type": "code",
   "execution_count": null,
   "metadata": {},
   "outputs": [],
   "source": [
    "store"
   ]
  },
  {
   "cell_type": "code",
   "execution_count": null,
   "metadata": {},
   "outputs": [],
   "source": []
  }
 ],
 "metadata": {
  "kernelspec": {
   "display_name": "Python 3",
   "language": "python",
   "name": "python3"
  },
  "language_info": {
   "codemirror_mode": {
    "name": "ipython",
    "version": 3
   },
   "file_extension": ".py",
   "mimetype": "text/x-python",
   "name": "python",
   "nbconvert_exporter": "python",
   "pygments_lexer": "ipython3",
   "version": "3.6.5"
  }
 },
 "nbformat": 4,
 "nbformat_minor": 2
}
