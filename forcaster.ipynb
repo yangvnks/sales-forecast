{
 "cells": [
  {
   "cell_type": "code",
   "execution_count": 1,
   "metadata": {},
   "outputs": [],
   "source": [
    "%matplotlib inline\n",
    "import matplotlib.pyplot as plt\n",
    "import matplotlib \n",
    "import numpy as np\n",
    "import pandas as pd\n",
    "from pandas import Series, DataFrame\n",
    "import seaborn as sns\n",
    "from scipy.stats import skew\n",
    "from sklearn.preprocessing import LabelEncoder\n",
    "from tqdm import tqdm\n",
    "import datetime\n",
    "from scipy.stats import skew\n",
    "from scipy.stats import norm\n",
    "import os\n",
    "\n",
    "\n",
    "\n",
    "#Environment settings\n",
    "data_path_in = 'Data/input/'\n",
    "data_path_out= 'Data/ouput/'"
   ]
  },
  {
   "cell_type": "markdown",
   "metadata": {},
   "source": [
    "# Loading datasets"
   ]
  },
  {
   "cell_type": "code",
   "execution_count": 2,
   "metadata": {},
   "outputs": [
    {
     "name": "stdout",
     "output_type": "stream",
     "text": [
      "Train set has shape (523021, 36).\n",
      "Test set has shape (45689, 34)\n"
     ]
    }
   ],
   "source": [
    "# load dataframes \n",
    "train = pd.read_csv(data_path_in+'train.csv')\n",
    "test = pd.read_csv(data_path_in+'test.csv')\n",
    "\n",
    "print(\"Train set has shape {}.\\nTest set has shape {}\" .format(train.shape,test.shape) )"
   ]
  },
  {
   "cell_type": "markdown",
   "metadata": {},
   "source": [
    "# Combining train & test data"
   ]
  },
  {
   "cell_type": "code",
   "execution_count": 3,
   "metadata": {},
   "outputs": [
    {
     "data": {
      "text/plain": [
       "(568710, 34)"
      ]
     },
     "execution_count": 3,
     "metadata": {},
     "output_type": "execute_result"
    }
   ],
   "source": [
    "# Dropping the 2 features not present in test set\n",
    "train_stripped = train.copy()\n",
    "train_stripped=train_stripped.drop(columns=['NumberOfCustomers','NumberOfSales'],axis=1)\n",
    "all_data = pd.concat([train_stripped,test],axis=0).reset_index()\n",
    "\n",
    "#to restore the original column order\n",
    "all_data= all_data[list(test.columns.values)]\n",
    "all_data.shape"
   ]
  },
  {
   "cell_type": "markdown",
   "metadata": {},
   "source": [
    "# 1. Categorical features"
   ]
  },
  {
   "cell_type": "code",
   "execution_count": 4,
   "metadata": {},
   "outputs": [
    {
     "name": "stdout",
     "output_type": "stream",
     "text": [
      "There are 4 numeric features (11.76% of total) \n"
     ]
    }
   ],
   "source": [
    "cat_features = all_data.select_dtypes(exclude=[np.number])\n",
    "\n",
    "print(\"There are {} numeric features ({:.2f}% of total) \".format(cat_features.shape[1],\n",
    "                                                                 (cat_features.shape[1]/\n",
    "                                                                  all_data.shape[1])*100))"
   ]
  },
  {
   "cell_type": "code",
   "execution_count": 5,
   "metadata": {},
   "outputs": [
    {
     "data": {
      "text/html": [
       "<div>\n",
       "<style scoped>\n",
       "    .dataframe tbody tr th:only-of-type {\n",
       "        vertical-align: middle;\n",
       "    }\n",
       "\n",
       "    .dataframe tbody tr th {\n",
       "        vertical-align: top;\n",
       "    }\n",
       "\n",
       "    .dataframe thead th {\n",
       "        text-align: right;\n",
       "    }\n",
       "</style>\n",
       "<table border=\"1\" class=\"dataframe\">\n",
       "  <thead>\n",
       "    <tr style=\"text-align: right;\">\n",
       "      <th></th>\n",
       "      <th>Date</th>\n",
       "      <th>StoreType</th>\n",
       "      <th>AssortmentType</th>\n",
       "      <th>Events</th>\n",
       "    </tr>\n",
       "  </thead>\n",
       "  <tbody>\n",
       "    <tr>\n",
       "      <th>count</th>\n",
       "      <td>568710</td>\n",
       "      <td>568710</td>\n",
       "      <td>568710</td>\n",
       "      <td>428171</td>\n",
       "    </tr>\n",
       "    <tr>\n",
       "      <th>unique</th>\n",
       "      <td>790</td>\n",
       "      <td>4</td>\n",
       "      <td>3</td>\n",
       "      <td>21</td>\n",
       "    </tr>\n",
       "    <tr>\n",
       "      <th>top</th>\n",
       "      <td>13/10/2016</td>\n",
       "      <td>Hyper Market</td>\n",
       "      <td>General</td>\n",
       "      <td>Rain</td>\n",
       "    </tr>\n",
       "    <tr>\n",
       "      <th>freq</th>\n",
       "      <td>749</td>\n",
       "      <td>318206</td>\n",
       "      <td>322296</td>\n",
       "      <td>220716</td>\n",
       "    </tr>\n",
       "  </tbody>\n",
       "</table>\n",
       "</div>"
      ],
      "text/plain": [
       "              Date     StoreType AssortmentType  Events\n",
       "count       568710        568710         568710  428171\n",
       "unique         790             4              3      21\n",
       "top     13/10/2016  Hyper Market        General    Rain\n",
       "freq           749        318206         322296  220716"
      ]
     },
     "execution_count": 5,
     "metadata": {},
     "output_type": "execute_result"
    }
   ],
   "source": [
    "all_data.describe(exclude=[np.number])"
   ]
  },
  {
   "cell_type": "markdown",
   "metadata": {},
   "source": [
    "## 1.1 Date manipulation\n",
    "The Python datetime library provides several useful objects to manipulate times and dates"
   ]
  },
  {
   "cell_type": "code",
   "execution_count": 6,
   "metadata": {},
   "outputs": [
    {
     "data": {
      "text/plain": [
       "0    01/03/2016\n",
       "1    02/03/2016\n",
       "2    04/03/2016\n",
       "3    05/03/2016\n",
       "4    06/03/2016\n",
       "Name: Date, dtype: object"
      ]
     },
     "execution_count": 6,
     "metadata": {},
     "output_type": "execute_result"
    }
   ],
   "source": [
    "all_data.Date.head()"
   ]
  },
  {
   "cell_type": "code",
   "execution_count": 7,
   "metadata": {},
   "outputs": [
    {
     "data": {
      "text/plain": [
       "0   2016-03-01\n",
       "1   2016-03-02\n",
       "2   2016-03-04\n",
       "3   2016-03-05\n",
       "4   2016-03-06\n",
       "Name: Date, dtype: datetime64[ns]"
      ]
     },
     "execution_count": 7,
     "metadata": {},
     "output_type": "execute_result"
    }
   ],
   "source": [
    "all_data.Date=all_data.Date.apply(lambda x:datetime.datetime.strptime(x, '%d/%m/%Y'))\n",
    "all_data.Date.head()"
   ]
  },
  {
   "cell_type": "markdown",
   "metadata": {},
   "source": [
    "## 1.2 Missing Values\n",
    "As seen by the describe function , the only categorical features with missing values is Events."
   ]
  },
  {
   "cell_type": "code",
   "execution_count": 8,
   "metadata": {},
   "outputs": [
    {
     "name": "stdout",
     "output_type": "stream",
     "text": [
      "There are 140539 missing values of Events(24.71%)\n"
     ]
    }
   ],
   "source": [
    "print (\"There are {} missing values of Events({:.2f}%)\".format(all_data['Events'].isna().sum(),\n",
    "                                                                  all_data['Events'].isna().sum()/\n",
    "                                                                  all_data.shape[0]*100))"
   ]
  },
  {
   "cell_type": "code",
   "execution_count": 9,
   "metadata": {},
   "outputs": [
    {
     "data": {
      "text/plain": [
       "array(['Rain-Snow', 'Snow', 'Rain', nan, 'Fog-Rain', 'Fog-Rain-Snow',\n",
       "       'Fog', 'Rain-Thunderstorm', 'Rain-Hail', 'Fog-Rain-Thunderstorm',\n",
       "       'Fog-Rain-Hail-Thunderstorm', 'Rain-Snow-Hail',\n",
       "       'Fog-Rain-Snow-Hail', 'Fog-Snow', 'Snow-Hail', 'Fog-Thunderstorm',\n",
       "       'Thunderstorm', 'Fog-Snow-Hail', 'Rain-Snow-Hail-Thunderstorm',\n",
       "       'Fog-Rain-Hail', 'Rain-Hail-Thunderstorm',\n",
       "       'Rain-Snow-Thunderstorm'], dtype=object)"
      ]
     },
     "execution_count": 9,
     "metadata": {},
     "output_type": "execute_result"
    }
   ],
   "source": [
    "all_data['Events'].unique()"
   ]
  },
  {
   "cell_type": "markdown",
   "metadata": {},
   "source": [
    "There are 21 unique events (nan included). All events seem to indicate bad weather condition. Let's check what the NaN values could be."
   ]
  },
  {
   "cell_type": "code",
   "execution_count": 10,
   "metadata": {},
   "outputs": [
    {
     "name": "stdout",
     "output_type": "stream",
     "text": [
      "Precipitation in mm of NaN Events 0.01 with general mean 0.78\n",
      "Mean humidity of NaN Events 64.38 with general mean 74.30\n",
      "Mean temperature in C of NaN Events 10.979016500757798 with general mean 10.01\n",
      "CloudCover of NaN Events 4.96 with general mean 5.56\n",
      "Mean visibility in km of NaN Events 15.27 with general mean 12.25\n"
     ]
    }
   ],
   "source": [
    "nan_index=all_data[all_data['Events'].isnull()].index.tolist()\n",
    "\n",
    "print(\"Precipitation in mm of NaN Events {:.2f} with general mean {:.2f}\"\n",
    "      .format(all_data.loc[nan_index,'Precipitationmm'].mean(),\n",
    "             all_data['Precipitationmm'].mean()))\n",
    "\n",
    "print(\"Mean humidity of NaN Events {:.2f} with general mean {:.2f}\"\n",
    "      .format(all_data.loc[nan_index,'Mean_Humidity'].mean(),\n",
    "             all_data['Mean_Humidity'].mean()))\n",
    "\n",
    "print(\"Mean temperature in C of NaN Events {} with general mean {:.2f}\"\n",
    "      .format(all_data.loc[nan_index,'Mean_TemperatureC'].mean(),\n",
    "             all_data['Mean_TemperatureC'].mean()))\n",
    "\n",
    "print(\"CloudCover of NaN Events {:.2f} with general mean {:.2f}\"\n",
    "      .format(all_data.loc[nan_index,'CloudCover'].mean(),\n",
    "             all_data['CloudCover'].mean()))\n",
    "\n",
    "print(\"Mean visibility in km of NaN Events {:.2f} with general mean {:.2f}\"\n",
    "      .format(all_data.loc[nan_index,'Mean_VisibilityKm'].mean(),\n",
    "             all_data['Mean_VisibilityKm'].mean()))"
   ]
  },
  {
   "cell_type": "markdown",
   "metadata": {},
   "source": [
    "As seen in the previous analysis ,NaN Events have generally less rain ,humidity and cloud cover.<br> The visibility is generally higher whereas the temperature more ore less within the dataset mean. <br>It's seems that NaN events correspond to Normal weather conditions."
   ]
  },
  {
   "cell_type": "code",
   "execution_count": 11,
   "metadata": {},
   "outputs": [
    {
     "name": "stdout",
     "output_type": "stream",
     "text": [
      "There are 0 missing values of Events left\n"
     ]
    }
   ],
   "source": [
    "all_data.Events = all_data.Events.fillna('Normal')\n",
    "print (\"There are {} missing values of Events left\".format(all_data['Events'].isna().sum(),\n",
    "                                                                  all_data['Events'].isna().sum()/\n",
    "                                                                  all_data.shape[0]*100))"
   ]
  },
  {
   "cell_type": "markdown",
   "metadata": {
    "collapsed": true
   },
   "source": [
    "# 2. Numerical features"
   ]
  },
  {
   "cell_type": "code",
   "execution_count": 12,
   "metadata": {},
   "outputs": [
    {
     "name": "stdout",
     "output_type": "stream",
     "text": [
      "There are 30 numeric features (88.24% of total) \n"
     ]
    }
   ],
   "source": [
    "numeric_features = all_data.select_dtypes(include=[np.number])\n",
    "\n",
    "print(\"There are {} numeric features ({:.2f}% of total) \".format(numeric_features.shape[1],\n",
    "                                                                 (numeric_features.shape[1]/\n",
    "                                                                  all_data.shape[1])*100))\n"
   ]
  },
  {
   "cell_type": "code",
   "execution_count": 13,
   "metadata": {},
   "outputs": [
    {
     "data": {
      "text/html": [
       "<div>\n",
       "<style scoped>\n",
       "    .dataframe tbody tr th:only-of-type {\n",
       "        vertical-align: middle;\n",
       "    }\n",
       "\n",
       "    .dataframe tbody tr th {\n",
       "        vertical-align: top;\n",
       "    }\n",
       "\n",
       "    .dataframe thead th {\n",
       "        text-align: right;\n",
       "    }\n",
       "</style>\n",
       "<table border=\"1\" class=\"dataframe\">\n",
       "  <thead>\n",
       "    <tr style=\"text-align: right;\">\n",
       "      <th></th>\n",
       "      <th>StoreID</th>\n",
       "      <th>IsHoliday</th>\n",
       "      <th>IsOpen</th>\n",
       "      <th>HasPromotions</th>\n",
       "      <th>NearestCompetitor</th>\n",
       "      <th>Region</th>\n",
       "      <th>Region_AreaKM2</th>\n",
       "      <th>Region_GDP</th>\n",
       "      <th>Region_PopulationK</th>\n",
       "      <th>CloudCover</th>\n",
       "      <th>...</th>\n",
       "      <th>Mean_TemperatureC</th>\n",
       "      <th>Mean_VisibilityKm</th>\n",
       "      <th>Mean_Wind_SpeedKm_h</th>\n",
       "      <th>Min_Dew_PointC</th>\n",
       "      <th>Min_Humidity</th>\n",
       "      <th>Min_Sea_Level_PressurehPa</th>\n",
       "      <th>Min_TemperatureC</th>\n",
       "      <th>Min_VisibilitykM</th>\n",
       "      <th>Precipitationmm</th>\n",
       "      <th>WindDirDegrees</th>\n",
       "    </tr>\n",
       "  </thead>\n",
       "  <tbody>\n",
       "    <tr>\n",
       "      <th>count</th>\n",
       "      <td>568710.000000</td>\n",
       "      <td>568710.000000</td>\n",
       "      <td>568710.000000</td>\n",
       "      <td>568710.000000</td>\n",
       "      <td>568710.000000</td>\n",
       "      <td>568710.000000</td>\n",
       "      <td>568710.000000</td>\n",
       "      <td>568710.000000</td>\n",
       "      <td>568710.000000</td>\n",
       "      <td>519111.000000</td>\n",
       "      <td>...</td>\n",
       "      <td>568710.000000</td>\n",
       "      <td>554751.000000</td>\n",
       "      <td>568710.000000</td>\n",
       "      <td>568710.000000</td>\n",
       "      <td>568710.000000</td>\n",
       "      <td>568710.000000</td>\n",
       "      <td>568710.000000</td>\n",
       "      <td>554751.000000</td>\n",
       "      <td>568710.000000</td>\n",
       "      <td>568710.000000</td>\n",
       "    </tr>\n",
       "    <tr>\n",
       "      <th>mean</th>\n",
       "      <td>1373.957616</td>\n",
       "      <td>0.029964</td>\n",
       "      <td>0.829147</td>\n",
       "      <td>0.380157</td>\n",
       "      <td>7999.119534</td>\n",
       "      <td>5.700586</td>\n",
       "      <td>12448.404758</td>\n",
       "      <td>14057.774367</td>\n",
       "      <td>3867.832217</td>\n",
       "      <td>5.560682</td>\n",
       "      <td>...</td>\n",
       "      <td>10.011000</td>\n",
       "      <td>12.250188</td>\n",
       "      <td>11.784913</td>\n",
       "      <td>3.340256</td>\n",
       "      <td>50.406260</td>\n",
       "      <td>1012.401630</td>\n",
       "      <td>5.852888</td>\n",
       "      <td>7.290294</td>\n",
       "      <td>0.780502</td>\n",
       "      <td>171.945909</td>\n",
       "    </tr>\n",
       "    <tr>\n",
       "      <th>std</th>\n",
       "      <td>216.381498</td>\n",
       "      <td>0.170489</td>\n",
       "      <td>0.376381</td>\n",
       "      <td>0.485426</td>\n",
       "      <td>11529.083651</td>\n",
       "      <td>3.358435</td>\n",
       "      <td>9197.663508</td>\n",
       "      <td>2753.553082</td>\n",
       "      <td>2814.035417</td>\n",
       "      <td>1.717195</td>\n",
       "      <td>...</td>\n",
       "      <td>6.883573</td>\n",
       "      <td>5.017721</td>\n",
       "      <td>5.878919</td>\n",
       "      <td>5.895683</td>\n",
       "      <td>19.309611</td>\n",
       "      <td>8.925047</td>\n",
       "      <td>6.238434</td>\n",
       "      <td>4.929762</td>\n",
       "      <td>2.551008</td>\n",
       "      <td>102.741075</td>\n",
       "    </tr>\n",
       "    <tr>\n",
       "      <th>min</th>\n",
       "      <td>1000.000000</td>\n",
       "      <td>0.000000</td>\n",
       "      <td>0.000000</td>\n",
       "      <td>0.000000</td>\n",
       "      <td>47.000000</td>\n",
       "      <td>0.000000</td>\n",
       "      <td>344.000000</td>\n",
       "      <td>9893.000000</td>\n",
       "      <td>816.000000</td>\n",
       "      <td>0.000000</td>\n",
       "      <td>...</td>\n",
       "      <td>-13.000000</td>\n",
       "      <td>0.000000</td>\n",
       "      <td>2.000000</td>\n",
       "      <td>-18.000000</td>\n",
       "      <td>8.000000</td>\n",
       "      <td>970.000000</td>\n",
       "      <td>-15.000000</td>\n",
       "      <td>0.000000</td>\n",
       "      <td>0.000000</td>\n",
       "      <td>-1.000000</td>\n",
       "    </tr>\n",
       "    <tr>\n",
       "      <th>25%</th>\n",
       "      <td>1187.000000</td>\n",
       "      <td>0.000000</td>\n",
       "      <td>1.000000</td>\n",
       "      <td>0.000000</td>\n",
       "      <td>1057.000000</td>\n",
       "      <td>3.000000</td>\n",
       "      <td>7215.000000</td>\n",
       "      <td>11849.000000</td>\n",
       "      <td>1293.000000</td>\n",
       "      <td>5.000000</td>\n",
       "      <td>...</td>\n",
       "      <td>4.000000</td>\n",
       "      <td>10.000000</td>\n",
       "      <td>8.000000</td>\n",
       "      <td>-1.000000</td>\n",
       "      <td>35.000000</td>\n",
       "      <td>1007.000000</td>\n",
       "      <td>1.000000</td>\n",
       "      <td>3.000000</td>\n",
       "      <td>0.000000</td>\n",
       "      <td>75.000000</td>\n",
       "    </tr>\n",
       "    <tr>\n",
       "      <th>50%</th>\n",
       "      <td>1373.000000</td>\n",
       "      <td>0.000000</td>\n",
       "      <td>1.000000</td>\n",
       "      <td>0.000000</td>\n",
       "      <td>3321.000000</td>\n",
       "      <td>6.000000</td>\n",
       "      <td>9643.000000</td>\n",
       "      <td>15017.000000</td>\n",
       "      <td>2770.000000</td>\n",
       "      <td>6.000000</td>\n",
       "      <td>...</td>\n",
       "      <td>10.000000</td>\n",
       "      <td>11.000000</td>\n",
       "      <td>11.000000</td>\n",
       "      <td>3.000000</td>\n",
       "      <td>50.000000</td>\n",
       "      <td>1013.000000</td>\n",
       "      <td>6.000000</td>\n",
       "      <td>8.000000</td>\n",
       "      <td>0.000000</td>\n",
       "      <td>194.000000</td>\n",
       "    </tr>\n",
       "    <tr>\n",
       "      <th>75%</th>\n",
       "      <td>1561.000000</td>\n",
       "      <td>0.000000</td>\n",
       "      <td>1.000000</td>\n",
       "      <td>1.000000</td>\n",
       "      <td>9673.000000</td>\n",
       "      <td>9.000000</td>\n",
       "      <td>15566.000000</td>\n",
       "      <td>15931.000000</td>\n",
       "      <td>5727.000000</td>\n",
       "      <td>7.000000</td>\n",
       "      <td>...</td>\n",
       "      <td>16.000000</td>\n",
       "      <td>14.000000</td>\n",
       "      <td>14.000000</td>\n",
       "      <td>8.000000</td>\n",
       "      <td>65.000000</td>\n",
       "      <td>1018.000000</td>\n",
       "      <td>11.000000</td>\n",
       "      <td>10.000000</td>\n",
       "      <td>0.250000</td>\n",
       "      <td>254.000000</td>\n",
       "    </tr>\n",
       "    <tr>\n",
       "      <th>max</th>\n",
       "      <td>1748.000000</td>\n",
       "      <td>1.000000</td>\n",
       "      <td>1.000000</td>\n",
       "      <td>1.000000</td>\n",
       "      <td>85070.000000</td>\n",
       "      <td>10.000000</td>\n",
       "      <td>32221.000000</td>\n",
       "      <td>23931.000000</td>\n",
       "      <td>8146.000000</td>\n",
       "      <td>8.000000</td>\n",
       "      <td>...</td>\n",
       "      <td>30.000000</td>\n",
       "      <td>31.000000</td>\n",
       "      <td>53.000000</td>\n",
       "      <td>18.000000</td>\n",
       "      <td>100.000000</td>\n",
       "      <td>1038.000000</td>\n",
       "      <td>24.000000</td>\n",
       "      <td>31.000000</td>\n",
       "      <td>58.930000</td>\n",
       "      <td>360.000000</td>\n",
       "    </tr>\n",
       "  </tbody>\n",
       "</table>\n",
       "<p>8 rows × 30 columns</p>\n",
       "</div>"
      ],
      "text/plain": [
       "             StoreID      IsHoliday         IsOpen  HasPromotions  \\\n",
       "count  568710.000000  568710.000000  568710.000000  568710.000000   \n",
       "mean     1373.957616       0.029964       0.829147       0.380157   \n",
       "std       216.381498       0.170489       0.376381       0.485426   \n",
       "min      1000.000000       0.000000       0.000000       0.000000   \n",
       "25%      1187.000000       0.000000       1.000000       0.000000   \n",
       "50%      1373.000000       0.000000       1.000000       0.000000   \n",
       "75%      1561.000000       0.000000       1.000000       1.000000   \n",
       "max      1748.000000       1.000000       1.000000       1.000000   \n",
       "\n",
       "       NearestCompetitor         Region  Region_AreaKM2     Region_GDP  \\\n",
       "count      568710.000000  568710.000000   568710.000000  568710.000000   \n",
       "mean         7999.119534       5.700586    12448.404758   14057.774367   \n",
       "std         11529.083651       3.358435     9197.663508    2753.553082   \n",
       "min            47.000000       0.000000      344.000000    9893.000000   \n",
       "25%          1057.000000       3.000000     7215.000000   11849.000000   \n",
       "50%          3321.000000       6.000000     9643.000000   15017.000000   \n",
       "75%          9673.000000       9.000000    15566.000000   15931.000000   \n",
       "max         85070.000000      10.000000    32221.000000   23931.000000   \n",
       "\n",
       "       Region_PopulationK     CloudCover       ...        Mean_TemperatureC  \\\n",
       "count       568710.000000  519111.000000       ...            568710.000000   \n",
       "mean          3867.832217       5.560682       ...                10.011000   \n",
       "std           2814.035417       1.717195       ...                 6.883573   \n",
       "min            816.000000       0.000000       ...               -13.000000   \n",
       "25%           1293.000000       5.000000       ...                 4.000000   \n",
       "50%           2770.000000       6.000000       ...                10.000000   \n",
       "75%           5727.000000       7.000000       ...                16.000000   \n",
       "max           8146.000000       8.000000       ...                30.000000   \n",
       "\n",
       "       Mean_VisibilityKm  Mean_Wind_SpeedKm_h  Min_Dew_PointC   Min_Humidity  \\\n",
       "count      554751.000000        568710.000000   568710.000000  568710.000000   \n",
       "mean           12.250188            11.784913        3.340256      50.406260   \n",
       "std             5.017721             5.878919        5.895683      19.309611   \n",
       "min             0.000000             2.000000      -18.000000       8.000000   \n",
       "25%            10.000000             8.000000       -1.000000      35.000000   \n",
       "50%            11.000000            11.000000        3.000000      50.000000   \n",
       "75%            14.000000            14.000000        8.000000      65.000000   \n",
       "max            31.000000            53.000000       18.000000     100.000000   \n",
       "\n",
       "       Min_Sea_Level_PressurehPa  Min_TemperatureC  Min_VisibilitykM  \\\n",
       "count              568710.000000     568710.000000     554751.000000   \n",
       "mean                 1012.401630          5.852888          7.290294   \n",
       "std                     8.925047          6.238434          4.929762   \n",
       "min                   970.000000        -15.000000          0.000000   \n",
       "25%                  1007.000000          1.000000          3.000000   \n",
       "50%                  1013.000000          6.000000          8.000000   \n",
       "75%                  1018.000000         11.000000         10.000000   \n",
       "max                  1038.000000         24.000000         31.000000   \n",
       "\n",
       "       Precipitationmm  WindDirDegrees  \n",
       "count    568710.000000   568710.000000  \n",
       "mean          0.780502      171.945909  \n",
       "std           2.551008      102.741075  \n",
       "min           0.000000       -1.000000  \n",
       "25%           0.000000       75.000000  \n",
       "50%           0.000000      194.000000  \n",
       "75%           0.250000      254.000000  \n",
       "max          58.930000      360.000000  \n",
       "\n",
       "[8 rows x 30 columns]"
      ]
     },
     "execution_count": 13,
     "metadata": {},
     "output_type": "execute_result"
    }
   ],
   "source": [
    "all_data.describe()"
   ]
  },
  {
   "cell_type": "markdown",
   "metadata": {},
   "source": [
    "## 2.1 Numerical data correlation"
   ]
  },
  {
   "cell_type": "code",
   "execution_count": 14,
   "metadata": {},
   "outputs": [
    {
     "data": {
      "image/png": "[encoded data removed]",
      "text/plain": [
       "<Figure size 1008x1008 with 1 Axes>"
      ]
     },
     "metadata": {},
     "output_type": "display_data"
    }
   ],
   "source": [
    "corrmat = train.corr()\n",
    "plt.subplots(figsize=(14,14))\n",
    "sns.heatmap(corrmat, square=True, annot=False,cbar=False,cmap=\"Blues\") \\\n",
    ".set_title('Features correlation');"
   ]
  },
  {
   "cell_type": "markdown",
   "metadata": {},
   "source": [
    "## 2.2 Numerical missing values"
   ]
  },
  {
   "cell_type": "code",
   "execution_count": 15,
   "metadata": {},
   "outputs": [
    {
     "data": {
      "image/png": "[encoded data removed]",
      "text/plain": [
       "<Figure size 1080x432 with 1 Axes>"
      ]
     },
     "metadata": {},
     "output_type": "display_data"
    }
   ],
   "source": [
    "# Missing values# \n",
    "plt.figure(figsize=(15,6))\n",
    "rows_length = numeric_features.shape[0]\n",
    "numeric_nan_length = numeric_features.isna().sum().where(lambda x : x > 0).dropna()\n",
    "numeric_nan_length = numeric_nan_length.sort_values()\n",
    "ax = numeric_nan_length \\\n",
    ".plot(kind='barh', alpha=0.9, title='Missing values count', table=True)\n",
    "ax.xaxis.set_visible(False) # hide x axis labels"
   ]
  },
  {
   "cell_type": "markdown",
   "metadata": {},
   "source": [
    "### 2.2.1 Max_Gust_SpeedKm_h"
   ]
  },
  {
   "cell_type": "code",
   "execution_count": 16,
   "metadata": {},
   "outputs": [
    {
     "data": {
      "text/plain": [
       "(568710, 33)"
      ]
     },
     "execution_count": 16,
     "metadata": {},
     "output_type": "execute_result"
    }
   ],
   "source": [
    "all_data=all_data.drop('Max_Gust_SpeedKm_h',axis=1)\n",
    "all_data.shape"
   ]
  },
  {
   "cell_type": "markdown",
   "metadata": {},
   "source": [
    "### 2.2.2 Visibility\n",
    "Since the Visibility has a high negative correlation  with Humidity, a good imputation method could be to group data by Humidity and use the median value to fill in missing values.<br>\n",
    "Intuitively the minimum visibility corresponds to the maximum humidity and viceversa.<br>\n",
    "Some humidity levels could not have visiblity values, so a good solution could be to take the mean between the two adiacent values"
   ]
  },
  {
   "cell_type": "code",
   "execution_count": 17,
   "metadata": {},
   "outputs": [
    {
     "name": "stderr",
     "output_type": "stream",
     "text": [
      "/home/flaprimo/Development/Workspaces/Python/sales-forecast/venv/lib/python3.6/site-packages/numpy/lib/nanfunctions.py:1018: RuntimeWarning: Mean of empty slice\n",
      "  return np.nanmean(a, axis, out=out, keepdims=keepdims)\n",
      "100%|██████████| 13959/13959 [00:40<00:00, 347.65it/s]\n",
      "100%|██████████| 13959/13959 [00:37<00:00, 369.91it/s]\n",
      "100%|██████████| 13959/13959 [00:36<00:00, 377.67it/s]"
     ]
    },
    {
     "name": "stdout",
     "output_type": "stream",
     "text": [
      "There are 0 missing values of Min_VisibilitykM left\n",
      "There are 0 missing values of Max_VisibilityKm left\n",
      "There are 0 missing values of Mean_VisibilityKm left\n"
     ]
    },
    {
     "name": "stderr",
     "output_type": "stream",
     "text": [
      "\n"
     ]
    },
    {
     "data": {
      "text/plain": [
       "32512"
      ]
     },
     "execution_count": 17,
     "metadata": {},
     "output_type": "execute_result"
    }
   ],
   "source": [
    "import math\n",
    "\n",
    "min_vis_dict=all_data.groupby('Max_Humidity')['Min_VisibilitykM'].apply(lambda x: x.median()).to_dict()\n",
    "max_vis_dict=all_data.groupby('Min_Humidity')['Max_VisibilityKm'].apply(lambda x: x.median()).to_dict()\n",
    "mean_vis_dict=all_data.groupby('Mean_Humidity')['Mean_VisibilityKm'].apply(lambda x: x.median()).to_dict()\n",
    "\n",
    "#Function that replaces missing values of the median with the mean of next and previous values\n",
    "def replace_nan_median(visdict_list):\n",
    "    for visdict in visdict_list:\n",
    "        item_list=[visdict[x] for x in visdict.keys()]\n",
    "        for val in range(len(item_list)):\n",
    "            if(math.isnan(item_list[val])):\n",
    "                prev_val = (val-1) < 0 and item_list[val+1]  or item_list[val-1]\n",
    "                next_val = (val+1) > len(item_list) and item_list[val-1] or item_list[val+1]\n",
    "                item_list[val] = float(int((prev_val + next_val)/2))\n",
    "        iterator = 0\n",
    "        for k,i in visdict.items():\n",
    "            visdict[k]=item_list[iterator]\n",
    "            iterator+=1\n",
    "\n",
    "#Function that replaces nan in the dataframe with the dictionary\n",
    "#value corresponding to the samples humidity level\n",
    "\n",
    "def replace_nan_df(col_name1,col_name2,dictionary):\n",
    "    nan_index=all_data[all_data[col_name1].isnull()].index.tolist()\n",
    "    for index in tqdm(nan_index):\n",
    "        humidty_lvl = all_data.loc[index,col_name2] \n",
    "        all_data.loc[index,col_name1] = dictionary[humidty_lvl]\n",
    "\n",
    "    \n",
    "        \n",
    "replace_nan_median([min_vis_dict,max_vis_dict,mean_vis_dict])\n",
    "\n",
    "#Replacing nan in dataframe \n",
    "replace_nan_df('Min_VisibilitykM','Max_Humidity',min_vis_dict)\n",
    "replace_nan_df('Max_VisibilityKm','Min_Humidity',max_vis_dict)\n",
    "replace_nan_df('Mean_VisibilityKm','Mean_Humidity',mean_vis_dict)\n",
    "\n",
    "for col in [\"Min_VisibilitykM\",\"Max_VisibilityKm\",\"Mean_VisibilityKm\"]:\n",
    "    print (\"There are {} missing values of {} left\".\n",
    "           format(all_data[col].isna().sum(),col))\n",
    "os.system('say \"Visibility Done.\"')"
   ]
  },
  {
   "cell_type": "code",
   "execution_count": 18,
   "metadata": {},
   "outputs": [],
   "source": [
    "#substitute with regression below\n",
    "all_data['CloudCover'] = all_data['CloudCover'].fillna(all_data['CloudCover'].median())"
   ]
  },
  {
   "cell_type": "markdown",
   "metadata": {},
   "source": [
    "# 3. Data Visualisation"
   ]
  },
  {
   "cell_type": "code",
   "execution_count": 19,
   "metadata": {},
   "outputs": [
    {
     "name": "stdout",
     "output_type": "stream",
     "text": [
      "Total stores 749 \n",
      "Region 0 has 55 stores (7.34% of total)\n",
      "Region 1 has 24 stores (3.20% of total)\n",
      "Region 2 has 125 stores (16.69% of total)\n",
      "Region 3 has 92 stores (12.28% of total)\n",
      "Region 4 has 18 stores (2.40% of total)\n",
      "Region 5 has 51 stores (6.81% of total)\n",
      "Region 6 has 36 stores (4.81% of total)\n",
      "Region 7 has 62 stores (8.28% of total)\n",
      "Region 8 has 28 stores (3.74% of total)\n",
      "Region 9 has 169 stores (22.56% of total)\n",
      "Region 10 has 89 stores (11.88% of total)\n"
     ]
    }
   ],
   "source": [
    "all_data.groupby(['StoreType'])['HasPromotions'].count()\n",
    "storeregions=all_data.groupby(['Region'])['StoreID'].unique()\n",
    "total_stores=0;\n",
    "store_dict = {}\n",
    "for i in range(0,11):\n",
    "    total_stores+=len(storeregions[i])\n",
    "    store_dict[i]=len(storeregions[i])\n",
    "\n",
    "print(\"Total stores {} \".format(total_stores))\n",
    "for i,k in store_dict.items():\n",
    "    print(\"Region {} has {} stores ({:.2f}% of total)\".format(i,k, (k/total_stores)*100))"
   ]
  },
  {
   "cell_type": "code",
   "execution_count": 20,
   "metadata": {},
   "outputs": [
    {
     "name": "stdout",
     "output_type": "stream",
     "text": [
      "<bound method Series.unique of 89441     1129\n",
      "89442     1129\n",
      "89443     1129\n",
      "89444     1129\n",
      "89445     1129\n",
      "89446     1129\n",
      "89447     1129\n",
      "89448     1129\n",
      "89449     1129\n",
      "89450     1129\n",
      "89451     1129\n",
      "89452     1129\n",
      "89453     1129\n",
      "89454     1129\n",
      "89455     1129\n",
      "89456     1129\n",
      "89457     1129\n",
      "89458     1129\n",
      "89459     1129\n",
      "89460     1129\n",
      "89461     1129\n",
      "89462     1129\n",
      "89463     1129\n",
      "89464     1129\n",
      "89465     1129\n",
      "89466     1129\n",
      "89467     1129\n",
      "89468     1129\n",
      "89469     1129\n",
      "89470     1129\n",
      "          ... \n",
      "564288    1676\n",
      "564289    1676\n",
      "564290    1676\n",
      "564291    1676\n",
      "564292    1676\n",
      "564293    1676\n",
      "564294    1676\n",
      "564295    1676\n",
      "564296    1676\n",
      "564297    1676\n",
      "564298    1676\n",
      "564299    1676\n",
      "564300    1676\n",
      "564301    1676\n",
      "564302    1676\n",
      "564303    1676\n",
      "564304    1676\n",
      "564305    1676\n",
      "564306    1676\n",
      "564307    1676\n",
      "564308    1676\n",
      "564309    1676\n",
      "564310    1676\n",
      "564311    1676\n",
      "564312    1676\n",
      "564313    1676\n",
      "564314    1676\n",
      "564315    1676\n",
      "564316    1676\n",
      "564317    1676\n",
      "Name: StoreID, Length: 7110, dtype: int64>\n",
      "<pandas.core.groupby.groupby.SeriesGroupBy object at 0x7f64a6c17c50>\n",
      "There are 417 shops of type Hyper Market\n",
      "There are 9 shops of type Super Market\n",
      "There are 218 shops of type Standard Market\n",
      "There are 105 shops of type Shopping Center\n"
     ]
    }
   ],
   "source": [
    "storenames=all_data['StoreType'].unique()\n",
    "shopping_center=all_data[all_data['StoreType']== 'Shopping Center']\n",
    "print(shopping_center['StoreID'].unique)\n",
    "storetype = all_data.groupby(['StoreType'])['StoreID'].unique()\n",
    "print(all_data.groupby(['StoreType'])['StoreID'])\n",
    "for x in range(0,4):\n",
    "    print(\"There are {} shops of type {}\".format(len(storetype[x]),storenames[x]))"
   ]
  },
  {
   "cell_type": "markdown",
   "metadata": {},
   "source": [
    "### 2.2.3 CloudCover"
   ]
  },
  {
   "cell_type": "code",
   "execution_count": 21,
   "metadata": {},
   "outputs": [
    {
     "name": "stdout",
     "output_type": "stream",
     "text": [
      "(568710, 59)\n",
      "(0, 59)\n"
     ]
    },
    {
     "ename": "ValueError",
     "evalue": "Found array with 0 sample(s) (shape=(0, 58)) while a minimum of 1 is required by RobustScaler.",
     "output_type": "error",
     "traceback": [
      "\u001b[0;31m---------------------------------------------------------------------------\u001b[0m",
      "\u001b[0;31mValueError\u001b[0m                                Traceback (most recent call last)",
      "\u001b[0;32m<ipython-input-21-f18a350b0444>\u001b[0m in \u001b[0;36m<module>\u001b[0;34m()\u001b[0m\n\u001b[1;32m     24\u001b[0m \u001b[0mscaler\u001b[0m \u001b[0;34m=\u001b[0m \u001b[0mRobustScaler\u001b[0m\u001b[0;34m(\u001b[0m\u001b[0;34m)\u001b[0m\u001b[0;34m\u001b[0m\u001b[0m\n\u001b[1;32m     25\u001b[0m \u001b[0mX_train_cloud\u001b[0m \u001b[0;34m=\u001b[0m \u001b[0mscaler\u001b[0m\u001b[0;34m.\u001b[0m\u001b[0mfit_transform\u001b[0m\u001b[0;34m(\u001b[0m\u001b[0mX_train_cloud\u001b[0m\u001b[0;34m)\u001b[0m\u001b[0;34m\u001b[0m\u001b[0m\n\u001b[0;32m---> 26\u001b[0;31m \u001b[0mtest_cloud\u001b[0m \u001b[0;34m=\u001b[0m \u001b[0mscaler\u001b[0m\u001b[0;34m.\u001b[0m\u001b[0mtransform\u001b[0m\u001b[0;34m(\u001b[0m\u001b[0mtest_cloud\u001b[0m\u001b[0;34m)\u001b[0m\u001b[0;34m\u001b[0m\u001b[0m\n\u001b[0m\u001b[1;32m     27\u001b[0m \u001b[0;34m\u001b[0m\u001b[0m\n\u001b[1;32m     28\u001b[0m \u001b[0;31m# kf = KFold(5, shuffle=True, random_state=42).get_n_splits(X_train_cloud)\u001b[0m\u001b[0;34m\u001b[0m\u001b[0;34m\u001b[0m\u001b[0m\n",
      "\u001b[0;32m~/Development/Workspaces/Python/sales-forecast/venv/lib/python3.6/site-packages/sklearn/preprocessing/data.py\u001b[0m in \u001b[0;36mtransform\u001b[0;34m(self, X)\u001b[0m\n\u001b[1;32m   1074\u001b[0m         \u001b[0;32mif\u001b[0m \u001b[0mself\u001b[0m\u001b[0;34m.\u001b[0m\u001b[0mwith_scaling\u001b[0m\u001b[0;34m:\u001b[0m\u001b[0;34m\u001b[0m\u001b[0m\n\u001b[1;32m   1075\u001b[0m             \u001b[0mcheck_is_fitted\u001b[0m\u001b[0;34m(\u001b[0m\u001b[0mself\u001b[0m\u001b[0;34m,\u001b[0m \u001b[0;34m'scale_'\u001b[0m\u001b[0;34m)\u001b[0m\u001b[0;34m\u001b[0m\u001b[0m\n\u001b[0;32m-> 1076\u001b[0;31m         \u001b[0mX\u001b[0m \u001b[0;34m=\u001b[0m \u001b[0mself\u001b[0m\u001b[0;34m.\u001b[0m\u001b[0m_check_array\u001b[0m\u001b[0;34m(\u001b[0m\u001b[0mX\u001b[0m\u001b[0;34m,\u001b[0m \u001b[0mself\u001b[0m\u001b[0;34m.\u001b[0m\u001b[0mcopy\u001b[0m\u001b[0;34m)\u001b[0m\u001b[0;34m\u001b[0m\u001b[0m\n\u001b[0m\u001b[1;32m   1077\u001b[0m \u001b[0;34m\u001b[0m\u001b[0m\n\u001b[1;32m   1078\u001b[0m         \u001b[0;32mif\u001b[0m \u001b[0msparse\u001b[0m\u001b[0;34m.\u001b[0m\u001b[0missparse\u001b[0m\u001b[0;34m(\u001b[0m\u001b[0mX\u001b[0m\u001b[0;34m)\u001b[0m\u001b[0;34m:\u001b[0m\u001b[0;34m\u001b[0m\u001b[0m\n",
      "\u001b[0;32m~/Development/Workspaces/Python/sales-forecast/venv/lib/python3.6/site-packages/sklearn/preprocessing/data.py\u001b[0m in \u001b[0;36m_check_array\u001b[0;34m(self, X, copy)\u001b[0m\n\u001b[1;32m   1024\u001b[0m         \u001b[0;34m\"\"\"Makes sure centering is not enabled for sparse matrices.\"\"\"\u001b[0m\u001b[0;34m\u001b[0m\u001b[0m\n\u001b[1;32m   1025\u001b[0m         X = check_array(X, accept_sparse=('csr', 'csc'), copy=self.copy,\n\u001b[0;32m-> 1026\u001b[0;31m                         estimator=self, dtype=FLOAT_DTYPES)\n\u001b[0m\u001b[1;32m   1027\u001b[0m \u001b[0;34m\u001b[0m\u001b[0m\n\u001b[1;32m   1028\u001b[0m         \u001b[0;32mif\u001b[0m \u001b[0msparse\u001b[0m\u001b[0;34m.\u001b[0m\u001b[0missparse\u001b[0m\u001b[0;34m(\u001b[0m\u001b[0mX\u001b[0m\u001b[0;34m)\u001b[0m\u001b[0;34m:\u001b[0m\u001b[0;34m\u001b[0m\u001b[0m\n",
      "\u001b[0;32m~/Development/Workspaces/Python/sales-forecast/venv/lib/python3.6/site-packages/sklearn/utils/validation.py\u001b[0m in \u001b[0;36mcheck_array\u001b[0;34m(array, accept_sparse, dtype, order, copy, force_all_finite, ensure_2d, allow_nd, ensure_min_samples, ensure_min_features, warn_on_dtype, estimator)\u001b[0m\n\u001b[1;32m    460\u001b[0m                              \u001b[0;34m\" minimum of %d is required%s.\"\u001b[0m\u001b[0;34m\u001b[0m\u001b[0m\n\u001b[1;32m    461\u001b[0m                              % (n_samples, shape_repr, ensure_min_samples,\n\u001b[0;32m--> 462\u001b[0;31m                                 context))\n\u001b[0m\u001b[1;32m    463\u001b[0m \u001b[0;34m\u001b[0m\u001b[0m\n\u001b[1;32m    464\u001b[0m     \u001b[0;32mif\u001b[0m \u001b[0mensure_min_features\u001b[0m \u001b[0;34m>\u001b[0m \u001b[0;36m0\u001b[0m \u001b[0;32mand\u001b[0m \u001b[0marray\u001b[0m\u001b[0;34m.\u001b[0m\u001b[0mndim\u001b[0m \u001b[0;34m==\u001b[0m \u001b[0;36m2\u001b[0m\u001b[0;34m:\u001b[0m\u001b[0;34m\u001b[0m\u001b[0m\n",
      "\u001b[0;31mValueError\u001b[0m: Found array with 0 sample(s) (shape=(0, 58)) while a minimum of 1 is required by RobustScaler."
     ]
    }
   ],
   "source": [
    "from sklearn.ensemble import RandomForestClassifier\n",
    "from sklearn.preprocessing import RobustScaler\n",
    "from sklearn.model_selection import cross_val_score,KFold\n",
    "\n",
    "rf =  RandomForestClassifier(n_estimators=50,verbose=True)\n",
    "\n",
    "cloud_data = all_data.copy()\n",
    "cloud_data = pd.get_dummies(cloud_data)\n",
    "cloud_data['Date_delta'] = (cloud_data['Date'] - cloud_data['Date'].min())  / np.timedelta64(1,'D')\n",
    "cloud_data=cloud_data.drop('Date',axis=1)\n",
    "nan_indexes=cloud_data[cloud_data['CloudCover'].isnull()].index.tolist()\n",
    "good_indexes =cloud_data[~cloud_data['CloudCover'].isnull()].index.tolist()\n",
    "\n",
    "train_cloud = cloud_data.loc[good_indexes]\n",
    "test_cloud = cloud_data.loc[nan_indexes]\n",
    "print(train_cloud.shape)\n",
    "print(test_cloud.shape)\n",
    "\n",
    "X_train_cloud = train_cloud.copy()\n",
    "X_train_cloud = X_train_cloud.drop(['CloudCover'], axis=1)\n",
    "y_train_cloud = train_cloud['CloudCover']\n",
    "test_cloud = test_cloud.drop('CloudCover',axis=1)\n",
    "\n",
    "scaler = RobustScaler()\n",
    "X_train_cloud = scaler.fit_transform(X_train_cloud)\n",
    "test_cloud = scaler.transform(test_cloud)\n",
    "\n",
    "# kf = KFold(5, shuffle=True, random_state=42).get_n_splits(X_train_cloud)\n",
    "# score_CV= cross_val_score(rf, X_train_cloud, y_train_cloud, cv = kf)\n",
    "\n",
    "# print(\"The 10-fold crossvalidation of RF is {:.5f} +/- {:.3f}\".format(score_CV.mean(),score_CV.std()))\n",
    "# os.system('say \"Crossvalidation done.\"')"
   ]
  },
  {
   "cell_type": "code",
   "execution_count": null,
   "metadata": {},
   "outputs": [],
   "source": [
    "# rf.fit(X_train_cloud,y_train_cloud)\n",
    "# pred_results =rf.predict(test_cloud)\n",
    "nan_index=cloud_data[cloud_data['CloudCover'].isnull()].index.tolist()\n",
    "result_df = pd.DataFrame(data={' Index' : nan_index,\n",
    "                               'CloudCover': pred_results})"
   ]
  },
  {
   "cell_type": "code",
   "execution_count": null,
   "metadata": {},
   "outputs": [],
   "source": []
  },
  {
   "cell_type": "markdown",
   "metadata": {},
   "source": [
    "# This part should be executed only for solution 3"
   ]
  },
  {
   "cell_type": "code",
   "execution_count": null,
   "metadata": {},
   "outputs": [],
   "source": [
    "    #############\n",
    "    # solution 3\n",
    "    #############\n",
    "\n",
    "    plt.figure(figsize=(12,8))\n",
    "    plt.subplot2grid((2,1), (0,0))\n",
    "    all_data.groupby(['CloudCover'])['Precipitationmm'].mean().plot(kind='bar',color='lightblue')\n",
    "    plt.xlabel('CloudCover')\n",
    "    plt.ylabel('Precipitationmm (mean)')\n",
    "    plt.subplot2grid((2,1), (1,0))\n",
    "    all_data.groupby(['CloudCover'])['Min_Humidity'].mean().plot(kind='bar',color='gray')\n",
    "    plt.xlabel('CloudCover')\n",
    "    plt.ylabel('Min_Humidity (mean)')\n",
    "    plt.show()"
   ]
  },
  {
   "cell_type": "markdown",
   "metadata": {
    "collapsed": true
   },
   "source": [
    "As the CloudCover value rises also Precipitationmm and Min_Humidity increase. <br>Except for CloudCover value 8.0 which looks like an anomaly (values are very similar to CloudCover level 5.0)."
   ]
  },
  {
   "cell_type": "code",
   "execution_count": null,
   "metadata": {},
   "outputs": [],
   "source": [
    "plt.figure(figsize=(15,5))\n",
    "all_data.groupby(['Region'])['CloudCover'].mean().plot(kind='bar',color='gray')\n",
    "plt.ylabel('CloudCover mean')\n",
    "plt.show()"
   ]
  },
  {
   "cell_type": "markdown",
   "metadata": {},
   "source": [
    "A clear outlier is Region 5 which has a mean CloudCover value of 8 ( which means that the lowest valueis 8). <br>A good imputation solution for region 5 is to set all CloudCover NaNs to 8."
   ]
  },
  {
   "cell_type": "code",
   "execution_count": null,
   "metadata": {},
   "outputs": [],
   "source": [
    "index5=all_data[all_data['Region']==5].index.tolist()\n",
    "all_data.loc[index5,'CloudCover']=8"
   ]
  },
  {
   "cell_type": "markdown",
   "metadata": {},
   "source": [
    "Let's check which other regions have CloudCover value 8 in the dataset."
   ]
  },
  {
   "cell_type": "markdown",
   "metadata": {},
   "source": [
    "# SHIT SHIT SHIT"
   ]
  },
  {
   "cell_type": "code",
   "execution_count": null,
   "metadata": {},
   "outputs": [],
   "source": []
  },
  {
   "cell_type": "code",
   "execution_count": null,
   "metadata": {},
   "outputs": [],
   "source": []
  },
  {
   "cell_type": "code",
   "execution_count": null,
   "metadata": {},
   "outputs": [],
   "source": []
  }
 ],
 "metadata": {
  "kernelspec": {
   "display_name": "Python 3",
   "language": "python",
   "name": "python3"
  },
  "language_info": {
   "codemirror_mode": {
    "name": "ipython",
    "version": 3
   },
   "file_extension": ".py",
   "mimetype": "text/x-python",
   "name": "python",
   "nbconvert_exporter": "python",
   "pygments_lexer": "ipython3",
   "version": "3.6.5"
  }
 },
 "nbformat": 4,
 "nbformat_minor": 2
}
