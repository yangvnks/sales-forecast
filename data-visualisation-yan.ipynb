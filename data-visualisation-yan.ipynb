{
 "cells": [
  {
   "cell_type": "code",
   "execution_count": 41,
   "metadata": {
    "collapsed": true
   },
   "outputs": [],
   "source": [
    "%matplotlib inline\n",
    "import matplotlib.pyplot as plt\n",
    "import matplotlib \n",
    "import numpy as np\n",
    "import pandas as pd\n",
    "from pandas import Series, DataFrame\n",
    "import seaborn as sns\n",
    "from scipy.stats import skew\n",
    "from sklearn.preprocessing import LabelEncoder\n",
    "from tqdm import tqdm\n",
    "import datetime\n",
    "from scipy.stats import skew\n",
    "from scipy.stats import norm\n",
    "import os\n",
    "import  plotly.plotly as py\n",
    "import plotly.graph_objs as go\n",
    "import pickle\n",
    "from src import utils\n",
    "\n",
    "\n",
    "#Environment settings\n",
    "data_path_in = 'Data/input/'\n",
    "data_path_out= 'Data/ouput/'"
   ]
  },
  {
   "cell_type": "code",
   "execution_count": 42,
   "metadata": {},
   "outputs": [
    {
     "name": "stdout",
     "output_type": "stream",
     "text": [
      "(523021, 35)\n",
      "(45689, 33)\n"
     ]
    }
   ],
   "source": [
    "# Deserialize previously saved data from \"preprocessing\"\n",
    "train = pd.read_csv(data_path_in+'train_clean.csv')\n",
    "test = pd.read_csv(data_path_in+'test_clean.csv')\n",
    "print(train_df.shape)\n",
    "print(test_df.shape)"
   ]
  },
  {
   "cell_type": "markdown",
   "metadata": {},
   "source": [
    "# Combining test & train set"
   ]
  },
  {
   "cell_type": "code",
   "execution_count": 43,
   "metadata": {},
   "outputs": [
    {
     "data": {
      "text/plain": [
       "(568710, 33)"
      ]
     },
     "execution_count": 43,
     "metadata": {},
     "output_type": "execute_result"
    }
   ],
   "source": [
    "# Dropping the 2 features not present in test set\n",
    "train_stripped = train_df.copy()\n",
    "train_stripped=train_stripped.drop(columns=['NumberOfCustomers','NumberOfSales'],axis=1)\n",
    "all_data = pd.concat([train_stripped,test_df],axis=0).reset_index()\n",
    "\n",
    "#to restore the original column order\n",
    "all_data= all_data[list(test_df.columns.values)]\n",
    "all_data.shape"
   ]
  },
  {
   "cell_type": "markdown",
   "metadata": {},
   "source": [
    "# Data Visualisation"
   ]
  },
  {
   "cell_type": "code",
   "execution_count": 50,
   "metadata": {},
   "outputs": [
    {
     "name": "stdout",
     "output_type": "stream",
     "text": [
      "['55.67% of total stores', '14.02% of total stores', '29.11% of total stores', '1.20% of total stores']\n"
     ]
    },
    {
     "data": {
      "text/html": [
       "<iframe id=\"igraph\" scrolling=\"no\" style=\"border:none;\" seamless=\"seamless\" src=\"https://plot.ly/~YannickGiovanakis/6.embed\" height=\"525px\" width=\"100%\"></iframe>"
      ],
      "text/plain": [
       "<plotly.tools.PlotlyDisplay object>"
      ]
     },
     "execution_count": 50,
     "metadata": {},
     "output_type": "execute_result"
    }
   ],
   "source": [
    "store_names=all_data['StoreType'].unique()\n",
    "store_num = len(all_data['StoreID'].unique())\n",
    "#maybe not necessary\n",
    "store_type_dict = {}\n",
    "store_type_count=[]\n",
    "for name in store_names:\n",
    "    filtered=all_data[all_data['StoreType']== name ]\n",
    "    store_type_dict[name]=len(filtered['StoreID'].unique())\n",
    "    store_type_count.append(len(filtered['StoreID'].unique()))\n",
    "    \n",
    "trace = go.Pie(labels=store_names, values=store_type_count)\n",
    "\n",
    "py.iplot([trace], filename='basic_pie_chart')"
   ]
  },
  {
   "cell_type": "code",
   "execution_count": 47,
   "metadata": {},
   "outputs": [
    {
     "data": {
      "text/html": [
       "<iframe id=\"igraph\" scrolling=\"no\" style=\"border:none;\" seamless=\"seamless\" src=\"https://plot.ly/~YannickGiovanakis/4.embed\" height=\"525px\" width=\"100%\"></iframe>"
      ],
      "text/plain": [
       "<plotly.tools.PlotlyDisplay object>"
      ]
     },
     "execution_count": 47,
     "metadata": {},
     "output_type": "execute_result"
    }
   ],
   "source": [
    "store_regions=all_data.groupby(['Region'])['StoreID'].unique()\n",
    "store_dict = {}\n",
    "for i in range(0,11):\n",
    "    store_dict[i]=len(store_regions[i])\n",
    "\n",
    "\n",
    "regional_store_types ={}\n",
    "for region in range(0,11):\n",
    "    region_df = all_data[all_data['Region']==region]\n",
    "    reg_store_names=region_df['StoreType'].unique()\n",
    "    reg_store_num = len(region_df['StoreID'].unique())\n",
    "    store_type_dict = {}\n",
    "    \n",
    "    for name in reg_store_names:\n",
    "        store_filter=region_df[region_df['StoreType']== name ]\n",
    "        store_type_dict[name]=len(store_filter['StoreID'].unique())\n",
    "    \n",
    "    # If a store type is not present in the region create a key with value 0\n",
    "    for name in store_names:\n",
    "        if name not in reg_store_names:\n",
    "            store_type_dict[name]=0\n",
    "    \n",
    "    for k,i in store_type_dict.items():\n",
    "        percentage = (i/reg_store_num)*100\n",
    "    regional_store_types[region] = store_type_dict\n",
    "      \n",
    "hyperm = []\n",
    "superm = []\n",
    "standm = []\n",
    "shopp  = []\n",
    "\n",
    "plot_dict ={}\n",
    "for i,k in regional_store_types.items():\n",
    "    hyperm.append(k[\"Hyper Market\"])\n",
    "    superm.append(k[\"Super Market\"])\n",
    "    standm.append(k[\"Standard Market\"])\n",
    "    shopp.append(k[\"Shopping Center\"])\n",
    "\n",
    "hyperm_bar = go.Bar(\n",
    "    x=np.arange(0,12),\n",
    "    y=hyperm,\n",
    "    name=store_names[0]\n",
    ")\n",
    "superm_bar = go.Bar(\n",
    "    x=np.arange(0,12),\n",
    "    y=superm,\n",
    "    name=store_names[1]\n",
    ")\n",
    "\n",
    "standm_bar = go.Bar(\n",
    "    x=np.arange(0,12),\n",
    "    y=standm,\n",
    "    name=store_names[2]\n",
    ")\n",
    "\n",
    "shopp_bar = go.Bar(\n",
    "    x=np.arange(0,12),\n",
    "    y=shopp,\n",
    "    name=store_names[3]\n",
    ")\n",
    "\n",
    "\n",
    "data = [hyperm_bar,superm_bar,standm_bar,shopp_bar]\n",
    "layout = go.Layout(\n",
    "    barmode='stack',\n",
    "    title='Store types count per Region',\n",
    "    xaxis=dict(title='Region'),\n",
    "    yaxis=dict(title='Store')\n",
    "    )\n",
    "\n",
    "fig = go.Figure(data=data, layout=layout)\n",
    "py.iplot(fig, filename='stacked-bar')"
   ]
  },
  {
   "cell_type": "code",
   "execution_count": null,
   "metadata": {
    "collapsed": true
   },
   "outputs": [],
   "source": []
  }
 ],
 "metadata": {
  "kernelspec": {
   "display_name": "Python 3",
   "language": "python",
   "name": "python3"
  },
  "language_info": {
   "codemirror_mode": {
    "name": "ipython",
    "version": 3
   },
   "file_extension": ".py",
   "mimetype": "text/x-python",
   "name": "python",
   "nbconvert_exporter": "python",
   "pygments_lexer": "ipython3",
   "version": "3.6.2"
  }
 },
 "nbformat": 4,
 "nbformat_minor": 2
}
