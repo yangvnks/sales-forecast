{
 "cells": [
  {
   "cell_type": "markdown",
   "metadata": {},
   "source": [
    "# Random Forest"
   ]
  },
  {
   "cell_type": "code",
   "execution_count": 70,
   "metadata": {},
   "outputs": [
    {
     "data": {
      "text/html": [
       "<script>requirejs.config({paths: { 'plotly': ['https://cdn.plot.ly/plotly-latest.min']},});if(!window.Plotly) {{require(['plotly'],function(plotly) {window.Plotly=plotly;});}}</script>"
      ],
      "text/vnd.plotly.v1+html": [
       "<script>requirejs.config({paths: { 'plotly': ['https://cdn.plot.ly/plotly-latest.min']},});if(!window.Plotly) {{require(['plotly'],function(plotly) {window.Plotly=plotly;});}}</script>"
      ]
     },
     "metadata": {},
     "output_type": "display_data"
    },
    {
     "data": {
      "text/plain": [
       "(523021, 73)"
      ]
     },
     "execution_count": 70,
     "metadata": {},
     "output_type": "execute_result"
    }
   ],
   "source": [
    "%matplotlib inline\n",
    "import numpy as np\n",
    "import pandas as pd\n",
    "from pandas import Series, DataFrame\n",
    "import pickle\n",
    "from sklearn.model_selection import train_test_split, StratifiedKFold\n",
    "from sklearn.metrics import accuracy_score\n",
    "import warnings\n",
    "from datetime import datetime\n",
    "from datetime import timedelta\n",
    "from sklearn.preprocessing import RobustScaler\n",
    "from sklearn import metrics\n",
    "import  plotly.plotly as py\n",
    "import plotly.graph_objs as go\n",
    "from plotly import tools\n",
    "from sklearn.ensemble import RandomForestRegressor\n",
    "from plotly.offline import download_plotlyjs, init_notebook_mode, plot, iplot\n",
    "import os\n",
    "import colorlover  as cl\n",
    "from tqdm import tqdm\n",
    "from scipy.special import boxcox1p\n",
    "from scipy.stats import skew\n",
    "\n",
    "\n",
    "# environment settings\n",
    "data_path_out = 'Data/output/'\n",
    "\n",
    "#hack to avoid showing deprecationg warnings\n",
    "warnings.filterwarnings(\"ignore\") \n",
    "init_notebook_mode(connected=True)\n",
    "\n",
    "\n",
    "# Deserialize previously saved data from \"preprocessing\"\n",
    "with open(data_path_out+'train_pp.obj', 'rb') as train_pp:\n",
    "    train_df = pickle.load(train_pp)\n",
    "\n",
    "#Dummies\n",
    "train_df = pd.get_dummies(train_df)\n",
    "train_df.shape"
   ]
  },
  {
   "cell_type": "markdown",
   "metadata": {},
   "source": [
    "## Check that all closed stores don't have sales"
   ]
  },
  {
   "cell_type": "code",
   "execution_count": 71,
   "metadata": {},
   "outputs": [
    {
     "data": {
      "text/html": [
       "<div>\n",
       "<style scoped>\n",
       "    .dataframe tbody tr th:only-of-type {\n",
       "        vertical-align: middle;\n",
       "    }\n",
       "\n",
       "    .dataframe tbody tr th {\n",
       "        vertical-align: top;\n",
       "    }\n",
       "\n",
       "    .dataframe thead th {\n",
       "        text-align: right;\n",
       "    }\n",
       "</style>\n",
       "<table border=\"1\" class=\"dataframe\">\n",
       "  <thead>\n",
       "    <tr style=\"text-align: right;\">\n",
       "      <th></th>\n",
       "      <th>StoreID</th>\n",
       "      <th>Date</th>\n",
       "      <th>IsHoliday</th>\n",
       "      <th>IsOpen</th>\n",
       "      <th>HasPromotions</th>\n",
       "      <th>NearestCompetitor</th>\n",
       "      <th>Region_AreaKM2</th>\n",
       "      <th>Region_GDP</th>\n",
       "      <th>Region_PopulationK</th>\n",
       "      <th>CloudCover</th>\n",
       "      <th>...</th>\n",
       "      <th>Events_Rain-Hail</th>\n",
       "      <th>Events_Rain-Hail-Thunderstorm</th>\n",
       "      <th>Events_Rain-Snow</th>\n",
       "      <th>Events_Rain-Snow-Hail</th>\n",
       "      <th>Events_Rain-Snow-Hail-Thunderstorm</th>\n",
       "      <th>Events_Rain-Snow-Thunderstorm</th>\n",
       "      <th>Events_Rain-Thunderstorm</th>\n",
       "      <th>Events_Snow</th>\n",
       "      <th>Events_Snow-Hail</th>\n",
       "      <th>Events_Thunderstorm</th>\n",
       "    </tr>\n",
       "  </thead>\n",
       "  <tbody>\n",
       "  </tbody>\n",
       "</table>\n",
       "<p>0 rows × 73 columns</p>\n",
       "</div>"
      ],
      "text/plain": [
       "Empty DataFrame\n",
       "Columns: [StoreID, Date, IsHoliday, IsOpen, HasPromotions, NearestCompetitor, Region_AreaKM2, Region_GDP, Region_PopulationK, CloudCover, Max_Dew_PointC, Max_Humidity, Max_Sea_Level_PressurehPa, Max_TemperatureC, Max_VisibilityKm, Max_Wind_SpeedKm_h, Mean_Dew_PointC, Mean_Humidity, Mean_Sea_Level_PressurehPa, Mean_TemperatureC, Mean_VisibilityKm, Mean_Wind_SpeedKm_h, Min_Dew_PointC, Min_Humidity, Min_Sea_Level_PressurehPa, Min_TemperatureC, Min_VisibilitykM, Precipitationmm, WindDirDegrees, Hol_and_open, Region_PD, NumberOfSales, NumberOfCustomers, StoreType_Hyper Market, StoreType_Standard Market, StoreType_Super Market, StoreType_Shopping Center, AssortmentType_General, AssortmentType_With Non-Food Department, AssortmentType_With Fish Department, Region_0, Region_1, Region_10, Region_2, Region_3, Region_4, Region_5, Region_7, Region_9, Region_6, Region_8, Events_Fog, Events_Fog-Rain, Events_Fog-Rain-Hail, Events_Fog-Rain-Hail-Thunderstorm, Events_Fog-Rain-Snow, Events_Fog-Rain-Snow-Hail, Events_Fog-Rain-Thunderstorm, Events_Fog-Snow, Events_Fog-Snow-Hail, Events_Fog-Thunderstorm, Events_Normal, Events_Rain, Events_Rain-Hail, Events_Rain-Hail-Thunderstorm, Events_Rain-Snow, Events_Rain-Snow-Hail, Events_Rain-Snow-Hail-Thunderstorm, Events_Rain-Snow-Thunderstorm, Events_Rain-Thunderstorm, Events_Snow, Events_Snow-Hail, Events_Thunderstorm]\n",
       "Index: []\n",
       "\n",
       "[0 rows x 73 columns]"
      ]
     },
     "execution_count": 71,
     "metadata": {},
     "output_type": "execute_result"
    }
   ],
   "source": [
    "train_df[(train_df['IsOpen'] == False) & (train_df['NumberOfSales']>0)]"
   ]
  },
  {
   "cell_type": "markdown",
   "metadata": {},
   "source": [
    "## New time features"
   ]
  },
  {
   "cell_type": "code",
   "execution_count": 72,
   "metadata": {},
   "outputs": [],
   "source": [
    "train_df['day'] = train_df.Date.dt.day\n",
    "train_df['month'] = train_df.Date.dt.month\n",
    "train_df['year'] = train_df.Date.dt.year\n",
    "train_df['WeekOfYear'] = train_df.Date.dt.week\n",
    "train_df['DaysInMonth'] = train_df.Date.dt.daysinmonth\n",
    "train_df['DayOfYear'] = train_df.Date.dt.dayofyear"
   ]
  },
  {
   "cell_type": "markdown",
   "metadata": {},
   "source": [
    "## New sales features"
   ]
  },
  {
   "cell_type": "code",
   "execution_count": 73,
   "metadata": {},
   "outputs": [],
   "source": [
    "\n",
    "def num_of_features(regional_week_year,week,year,column_of_interest):\n",
    "    num_holidays=0\n",
    "\n",
    "    if week ==1:\n",
    "        week_before=[52,year-1]\n",
    "        week_after=[2,year]\n",
    "    if week == 52:\n",
    "        week_after=[1,year+1]\n",
    "        week_before=[51,year]\n",
    "    if (week>1) & (week<52):\n",
    "        week_before=[week-1,year]\n",
    "        week_after=[week+1,year]\n",
    "    \n",
    "    before_df = regional_week_year[(regional_week_year['WeekOfYear']==week_before[0])&\n",
    "                                  (regional_week_year['year']==week_before[1])]\n",
    "    \n",
    "    after_df = regional_week_year[(regional_week_year['WeekOfYear']==week_after[0])&\n",
    "                                  (regional_week_year['year']==week_after[1])]\n",
    "    this_df = regional_week_year[(regional_week_year['WeekOfYear']==week)&\n",
    "                                 (regional_week_year['year']==year)]\n",
    "    \n",
    "    num_ago = before_df[before_df[column_of_interest]][column_of_interest].sum()\n",
    "    num_next = after_df[after_df[column_of_interest]][column_of_interest].sum()\n",
    "    num_this = this_df[this_df[column_of_interest]][column_of_interest].sum()\n",
    "    \n",
    "    return num_ago,num_next,num_this\n",
    "\n",
    "def create_new_features(before,current,after,column_of_interest):\n",
    "    train_df[before] = 0\n",
    "    train_df[current]=0\n",
    "    train_df[after] = 0\n",
    "\n",
    "    region_list= [\"Region_\"+str(d) for d in range(0,11)]\n",
    "    for region in tqdm(region_list):\n",
    "        curr_region = train_df[train_df[region]==1]\n",
    "\n",
    "        #get all valid dates of that region\n",
    "        regional_week_year=curr_region[['WeekOfYear','year',column_of_interest]]\n",
    "\n",
    "        #get all store ids of that region\n",
    "        regional_stores=len(curr_region['StoreID'].unique())\n",
    "\n",
    "        week_year_list =regional_week_year[['WeekOfYear','year']].drop_duplicates().values.tolist()\n",
    "\n",
    "        for date in week_year_list:\n",
    "            num_ago,num_next,num_this = num_of_features(regional_week_year,\n",
    "                                                        date[0],\n",
    "                                                        date[1],\n",
    "                                                        column_of_interest)\n",
    "\n",
    "            train_df.at[((train_df['WeekOfYear']==date[0])&\n",
    "                         (train_df['year']==date[1])),before]=int(num_ago/regional_stores)\n",
    "            train_df.at[((train_df['WeekOfYear']==date[0])&\n",
    "                         (train_df['year']==date[1])),after]=int(num_next/regional_stores)\n",
    "            train_df.at[((train_df['WeekOfYear']==date[0])&\n",
    "                         (train_df['year']==date[1])),current]=int(num_this/regional_stores)"
   ]
  },
  {
   "cell_type": "code",
   "execution_count": 74,
   "metadata": {},
   "outputs": [
    {
     "name": "stderr",
     "output_type": "stream",
     "text": [
      "100%|██████████| 11/11 [01:32<00:00,  8.38s/it]\n",
      "100%|██████████| 11/11 [01:31<00:00,  8.29s/it]\n"
     ]
    }
   ],
   "source": [
    "create_new_features('HolidaysWeekBefore','HolidaysWeekCurrent','HolidaysWeekAfter','IsHoliday')\n",
    "create_new_features('PromoWeekBefore','PromoWeekCurrent','PromoWeekAfter','HasPromotions')"
   ]
  },
  {
   "cell_type": "markdown",
   "metadata": {},
   "source": [
    "## Drop NumberOfCustomers"
   ]
  },
  {
   "cell_type": "code",
   "execution_count": 75,
   "metadata": {},
   "outputs": [],
   "source": [
    "train_df =train_df.drop('NumberOfCustomers',axis=1)"
   ]
  },
  {
   "cell_type": "markdown",
   "metadata": {},
   "source": [
    "## Drop closed stores"
   ]
  },
  {
   "cell_type": "code",
   "execution_count": 76,
   "metadata": {},
   "outputs": [],
   "source": [
    "# mask_closed = (train_df['IsOpen']==False)\n",
    "# train_df=train_df[~mask_closed]\n",
    "# train_df.shape"
   ]
  },
  {
   "cell_type": "markdown",
   "metadata": {},
   "source": [
    "## Date dictionary"
   ]
  },
  {
   "cell_type": "code",
   "execution_count": 77,
   "metadata": {},
   "outputs": [],
   "source": [
    "all_dates = pd.DatetimeIndex(train_df['Date'])\n",
    "month_dict = { d.strftime(\"%B%Y\") :datetime.strptime(d.strftime('%m-%Y'),'%m-%Y') for d in all_dates}"
   ]
  },
  {
   "cell_type": "markdown",
   "metadata": {},
   "source": [
    "## PCA -> useless"
   ]
  },
  {
   "cell_type": "code",
   "execution_count": 78,
   "metadata": {},
   "outputs": [
    {
     "name": "stdout",
     "output_type": "stream",
     "text": [
      "[0.0885402  0.14312627 0.19039511 0.23353448 0.27249089 0.3092255\n",
      " 0.34054463 0.36782221 0.39163594 0.41513407 0.43701514 0.45759482\n",
      " 0.47674043 0.49459287 0.51230881 0.52901529 0.54466006 0.5600574\n",
      " 0.5750247  0.58932052 0.60286445 0.61623207 0.62946464 0.64258977\n",
      " 0.6553859  0.66780464 0.6801545  0.69239363 0.70459161 0.71675621\n",
      " 0.72888809 0.7409871  0.75306151 0.76511292 0.77713714 0.78912656\n",
      " 0.80109447 0.81289145 0.82454647 0.83612541 0.84762407 0.85891663\n",
      " 0.86910631 0.87902717 0.88835199 0.89729907 0.90609942 0.91444323\n",
      " 0.92250559 0.93025305 0.93763962 0.94446129 0.95101731 0.95748109\n",
      " 0.96349962 0.96903134 0.97384288 0.97827558 0.98252482 0.98629139\n",
      " 0.98967567 0.99278265 0.99448472 0.9959177  0.99718424 0.99804833\n",
      " 0.99866456 0.99909162 0.9994921  0.99969113 0.99981823 0.99989784\n",
      " 0.99997238 0.99999988 1.         1.         1.         1.\n",
      " 1.         1.         1.         1.         1.        ]\n"
     ]
    }
   ],
   "source": [
    "from sklearn.decomposition import PCA\n",
    "from sklearn.preprocessing import StandardScaler\n",
    "\n",
    "train_df2 = train_df.drop('Date',axis=1)\n",
    "sc= StandardScaler()\n",
    "train_scaled = sc.fit_transform(train_df2.values)\n",
    "cov_mat = np.cov(train_scaled.T)\n",
    "eigen_vals, eigen_vecs = np.linalg.eig(cov_mat)\n",
    "tot = sum(eigen_vals)\n",
    "var_exp = [(i/tot) for i in sorted(eigen_vals,reverse=True)]\n",
    "cum_var_exp = np.cumsum(var_exp)\n",
    "print(cum_var_exp)"
   ]
  },
  {
   "cell_type": "markdown",
   "metadata": {},
   "source": [
    "## 1. Method Training and predicting one-hold out "
   ]
  },
  {
   "cell_type": "code",
   "execution_count": 95,
   "metadata": {},
   "outputs": [],
   "source": [
    "from sklearn.decomposition import PCA\n",
    "\n",
    "def monthly_training(training_interval=['03-2017','02-2018'],\n",
    "                     verbose=False,\n",
    "                     regressor=RandomForestRegressor(n_estimators=50,n_jobs=-1)):\n",
    "    \n",
    "    init_date=datetime.strptime(training_interval[0],'%m-%Y')\n",
    "    end_date =datetime.strptime(training_interval[1],'%m-%Y')\n",
    "    \n",
    "    month_scores = []\n",
    "    y_test_list = []\n",
    "    predicted_list= []\n",
    "    predicted_df_list = []\n",
    "    training_months = []\n",
    "    training_df_list = []\n",
    "    for month_name, date in month_dict.items():\n",
    "\n",
    "        if (date >= init_date) & (date<= end_date) :\n",
    "                if verbose== True:\n",
    "                    print(\"Doing month\",month_name)\n",
    "                    \n",
    "                training_months.append(month_name)\n",
    "                mask = ((train_df['month']==date.month) & (train_df['year']==date.year))\n",
    "                test = train_df[mask]\n",
    "                train = train_df[~mask]\n",
    "                \n",
    "                y_train = train.NumberOfSales\n",
    "                X_train = train.drop('NumberOfSales',axis = 1)\n",
    "\n",
    "                y_test = test.NumberOfSales\n",
    "                X_test = test.drop('NumberOfSales',axis = 1)\n",
    "\n",
    "                X_train = X_train.drop('Date',axis=1)\n",
    "                X_test = X_test.drop('Date',axis=1)\n",
    "                \n",
    "                #slightly better with this scaler\n",
    "                scaler = RobustScaler()\n",
    "                X_train_scaled=scaler.fit(X_train).transform(X_train)\n",
    "                X_test_scaled=scaler.transform(X_test)\n",
    "                reg =  regressor.fit(X_train_scaled,y_train)\n",
    "                \n",
    "                train_copy  = train_df.drop(['NumberOfSales'], axis=1)\n",
    "                train_copy = train_copy.drop(['Date'],axis=1)\n",
    "                feat_labels = train_copy.columns[0:]\n",
    "                importances = reg.feature_importances_\n",
    "                indices = np.argsort(importances)[::-1]\n",
    "                for f in range(X_train_scaled.shape[1]):\n",
    "                    print(\"%2d %-*s %f\" %(f+1,30,feat_labels[indices[f]],importances[indices[f]]))\n",
    "                \n",
    "                current_score = reg.score(X_test_scaled,y_test)\n",
    "                current_prediction = reg.predict(X_test_scaled)\n",
    "                month_scores.append(current_score)\n",
    "                predicted_list.append(current_prediction)\n",
    "                y_test_list.append(y_test)\n",
    "                \n",
    "                if verbose == True:\n",
    "                    print(\"Month {} has shape {}\\n\\t\".format(month_name,test.shape))\n",
    "                    print(\"-Score {}\".format(current_score))\n",
    "                \n",
    "                \n",
    "                real_df = train_df.copy()\n",
    "                month_test_df = train_df[mask]\n",
    "                month_train_df= train_df[~mask]\n",
    "\n",
    "                month_test_df= month_test_df.drop('NumberOfSales',axis=1)\n",
    "                prediction_=pd.Series(current_prediction)\n",
    "                month_test_df['NumberOfSales']=prediction_.values.astype(int)\n",
    "                predicted_df = pd.concat([month_test_df,month_train_df]).reset_index()\n",
    "                predicted_df= predicted_df[list(train_df.columns.values)]\n",
    "                \n",
    "                predicted_df_list.append(predicted_df)\n",
    "                training_df_list.append(train)\n",
    "                \n",
    "    return {\n",
    "        'Scores' : month_scores,\n",
    "        'Real' : y_test_list,\n",
    "        'Predictions' : predicted_list,\n",
    "        'Training_dates': training_months,\n",
    "        'Training_df' : training_df_list,\n",
    "        'Predicted_df' : predicted_df_list\n",
    "    }\n"
   ]
  },
  {
   "cell_type": "code",
   "execution_count": 98,
   "metadata": {
    "scrolled": true
   },
   "outputs": [
    {
     "name": "stdout",
     "output_type": "stream",
     "text": [
      "Doing month May2017\n",
      " 1 IsOpen                         0.453292\n",
      " 2 NearestCompetitor              0.124347\n",
      " 3 StoreID                        0.112367\n",
      " 4 HasPromotions                  0.071877\n",
      " 5 DayOfYear                      0.017707\n",
      " 6 Region_PD                      0.017307\n",
      " 7 Region_AreaKM2                 0.015544\n",
      " 8 day                            0.014602\n",
      " 9 AssortmentType_General         0.012508\n",
      "10 Region_GDP                     0.011498\n",
      "11 Region_PopulationK             0.009812\n",
      "12 month                          0.009215\n",
      "13 StoreType_Hyper Market         0.008035\n",
      "14 StoreType_Standard Market      0.007709\n",
      "15 WindDirDegrees                 0.007016\n",
      "16 StoreType_Shopping Center      0.006158\n",
      "17 StoreType_Super Market         0.005962\n",
      "18 Min_Humidity                   0.004555\n",
      "19 AssortmentType_With Non-Food Department 0.004430\n",
      "20 HolidaysWeekCurrent            0.004266\n",
      "21 PromoWeekCurrent               0.004231\n",
      "22 Max_TemperatureC               0.003735\n",
      "23 Max_Sea_Level_PressurehPa      0.003688\n",
      "24 Mean_Humidity                  0.003672\n",
      "25 Mean_Wind_SpeedKm_h            0.003573\n",
      "26 Min_Sea_Level_PressurehPa      0.003491\n",
      "27 Max_Wind_SpeedKm_h             0.003427\n",
      "28 Mean_Sea_Level_PressurehPa     0.003283\n",
      "29 year                           0.002969\n",
      "30 Min_Dew_PointC                 0.002948\n",
      "31 Mean_VisibilityKm              0.002924\n",
      "32 WeekOfYear                     0.002882\n",
      "33 Region_3                       0.002823\n",
      "34 Region_9                       0.002620\n",
      "35 Min_TemperatureC               0.002562\n",
      "36 Max_Humidity                   0.002385\n",
      "37 CloudCover                     0.002383\n",
      "38 Max_Dew_PointC                 0.002314\n",
      "39 Min_VisibilitykM               0.002312\n",
      "40 Mean_TemperatureC              0.001960\n",
      "41 Precipitationmm                0.001882\n",
      "42 Mean_Dew_PointC                0.001839\n",
      "43 Region_4                       0.001825\n",
      "44 Max_VisibilityKm               0.001611\n",
      "45 AssortmentType_With Fish Department 0.001539\n",
      "46 Region_6                       0.001286\n",
      "47 Region_0                       0.001136\n",
      "48 Region_7                       0.000891\n",
      "49 HolidaysWeekAfter              0.000842\n",
      "50 Region_8                       0.000768\n",
      "51 Region_2                       0.000763\n",
      "52 PromoWeekBefore                0.000761\n",
      "53 DaysInMonth                    0.000642\n",
      "54 PromoWeekAfter                 0.000632\n",
      "55 Region_1                       0.000577\n",
      "56 Events_Rain                    0.000577\n",
      "57 HolidaysWeekBefore             0.000531\n",
      "58 Region_10                      0.000513\n",
      "59 Events_Normal                  0.000505\n",
      "60 Region_5                       0.000372\n",
      "61 Events_Fog-Rain                0.000366\n",
      "62 Events_Fog                     0.000347\n",
      "63 IsHoliday                      0.000284\n",
      "64 Events_Rain-Thunderstorm       0.000274\n",
      "65 Hol_and_open                   0.000265\n",
      "66 Events_Rain-Snow               0.000148\n",
      "67 Events_Snow                    0.000127\n",
      "68 Events_Fog-Rain-Thunderstorm   0.000088\n",
      "69 Events_Fog-Snow                0.000050\n",
      "70 Events_Fog-Rain-Snow           0.000044\n",
      "71 Events_Thunderstorm            0.000041\n",
      "72 Events_Rain-Hail               0.000029\n",
      "73 Events_Rain-Snow-Hail          0.000017\n",
      "74 Events_Fog-Rain-Snow-Hail      0.000015\n",
      "75 Events_Fog-Rain-Hail           0.000006\n",
      "76 Events_Fog-Thunderstorm        0.000006\n",
      "77 Events_Snow-Hail               0.000003\n",
      "78 Events_Fog-Rain-Hail-Thunderstorm 0.000003\n",
      "79 Events_Rain-Snow-Thunderstorm  0.000002\n",
      "80 Events_Rain-Snow-Hail-Thunderstorm 0.000001\n",
      "81 Events_Fog-Snow-Hail           0.000001\n",
      "82 Events_Rain-Hail-Thunderstorm  0.000000\n",
      "Month May2017 has shape (23219, 84)\n",
      "\t\n",
      "-Score 0.9300573015966777\n"
     ]
    }
   ],
   "source": [
    "reg = RandomForestRegressor(n_estimators=50,n_jobs=-1)\n",
    "prediction_result = monthly_training(verbose=True,\n",
    "                                     training_interval=['05-2017','05-2017'],\n",
    "                                     regressor = reg)"
   ]
  },
  {
   "cell_type": "markdown",
   "metadata": {},
   "source": [
    "## 2  Method : Cross validation"
   ]
  },
  {
   "cell_type": "code",
   "execution_count": 116,
   "metadata": {},
   "outputs": [
    {
     "name": "stdout",
     "output_type": "stream",
     "text": [
      "Cross-validation for 1000 -> score: -0.0358 with +/- 0.0355\n",
      "Cross-validation for 1001 -> score: -0.0332 with +/- 0.0275\n",
      "Cross-validation for 1002 -> score: -0.0491 with +/- 0.0368\n",
      "Cross-validation for 1003 -> score: -0.0380 with +/- 0.0358\n"
     ]
    },
    {
     "ename": "KeyboardInterrupt",
     "evalue": "",
     "output_type": "error",
     "traceback": [
      "\u001b[0;31m---------------------------------------------------------------------------\u001b[0m",
      "\u001b[0;31mKeyboardInterrupt\u001b[0m                         Traceback (most recent call last)",
      "\u001b[0;32m<ipython-input-116-61e7013781ff>\u001b[0m in \u001b[0;36m<module>\u001b[0;34m()\u001b[0m\n\u001b[1;32m     19\u001b[0m \u001b[0;34m\u001b[0m\u001b[0m\n\u001b[1;32m     20\u001b[0m     \u001b[0mkfold\u001b[0m \u001b[0;34m=\u001b[0m \u001b[0mKFold\u001b[0m\u001b[0;34m(\u001b[0m\u001b[0mn_splits\u001b[0m\u001b[0;34m=\u001b[0m\u001b[0;36m10\u001b[0m\u001b[0;34m,\u001b[0m\u001b[0mshuffle\u001b[0m \u001b[0;34m=\u001b[0m \u001b[0;32mTrue\u001b[0m\u001b[0;34m,\u001b[0m \u001b[0mrandom_state\u001b[0m\u001b[0;34m=\u001b[0m\u001b[0;36m7\u001b[0m\u001b[0;34m)\u001b[0m\u001b[0;34m\u001b[0m\u001b[0m\n\u001b[0;32m---> 21\u001b[0;31m     \u001b[0mresults\u001b[0m\u001b[0;34m[\u001b[0m\u001b[0mstoreid\u001b[0m\u001b[0;34m]\u001b[0m \u001b[0;34m=\u001b[0m \u001b[0mcross_val_score\u001b[0m\u001b[0;34m(\u001b[0m\u001b[0mstregr\u001b[0m\u001b[0;34m,\u001b[0m \u001b[0mX_train_scaled\u001b[0m\u001b[0;34m,\u001b[0m \u001b[0my_train\u001b[0m\u001b[0;34m,\u001b[0m \u001b[0mscoring\u001b[0m\u001b[0;34m=\u001b[0m\u001b[0;34m'r2'\u001b[0m\u001b[0;34m,\u001b[0m \u001b[0mcv\u001b[0m\u001b[0;34m=\u001b[0m\u001b[0mkfold\u001b[0m\u001b[0;34m)\u001b[0m\u001b[0;34m\u001b[0m\u001b[0m\n\u001b[0m\u001b[1;32m     22\u001b[0m     \u001b[0mprint\u001b[0m\u001b[0;34m(\u001b[0m\u001b[0;34m'Cross-validation for {} -> score: {:.4f} with +/- {:.4f}'\u001b[0m          \u001b[0;34m.\u001b[0m\u001b[0mformat\u001b[0m\u001b[0;34m(\u001b[0m\u001b[0mstoreid\u001b[0m\u001b[0;34m,\u001b[0m\u001b[0mresults\u001b[0m\u001b[0;34m[\u001b[0m\u001b[0mstoreid\u001b[0m\u001b[0;34m]\u001b[0m\u001b[0;34m.\u001b[0m\u001b[0mmean\u001b[0m\u001b[0;34m(\u001b[0m\u001b[0;34m)\u001b[0m\u001b[0;34m,\u001b[0m\u001b[0mresults\u001b[0m\u001b[0;34m[\u001b[0m\u001b[0mstoreid\u001b[0m\u001b[0;34m]\u001b[0m\u001b[0;34m.\u001b[0m\u001b[0mstd\u001b[0m\u001b[0;34m(\u001b[0m\u001b[0;34m)\u001b[0m\u001b[0;34m)\u001b[0m\u001b[0;34m)\u001b[0m\u001b[0;34m\u001b[0m\u001b[0m\n",
      "\u001b[0;32m~/anaconda3/lib/python3.6/site-packages/sklearn/model_selection/_validation.py\u001b[0m in \u001b[0;36mcross_val_score\u001b[0;34m(estimator, X, y, groups, scoring, cv, n_jobs, verbose, fit_params, pre_dispatch)\u001b[0m\n\u001b[1;32m    319\u001b[0m                                 \u001b[0mn_jobs\u001b[0m\u001b[0;34m=\u001b[0m\u001b[0mn_jobs\u001b[0m\u001b[0;34m,\u001b[0m \u001b[0mverbose\u001b[0m\u001b[0;34m=\u001b[0m\u001b[0mverbose\u001b[0m\u001b[0;34m,\u001b[0m\u001b[0;34m\u001b[0m\u001b[0m\n\u001b[1;32m    320\u001b[0m                                 \u001b[0mfit_params\u001b[0m\u001b[0;34m=\u001b[0m\u001b[0mfit_params\u001b[0m\u001b[0;34m,\u001b[0m\u001b[0;34m\u001b[0m\u001b[0m\n\u001b[0;32m--> 321\u001b[0;31m                                 pre_dispatch=pre_dispatch)\n\u001b[0m\u001b[1;32m    322\u001b[0m     \u001b[0;32mreturn\u001b[0m \u001b[0mcv_results\u001b[0m\u001b[0;34m[\u001b[0m\u001b[0;34m'test_score'\u001b[0m\u001b[0;34m]\u001b[0m\u001b[0;34m\u001b[0m\u001b[0m\n\u001b[1;32m    323\u001b[0m \u001b[0;34m\u001b[0m\u001b[0m\n",
      "\u001b[0;32m~/anaconda3/lib/python3.6/site-packages/sklearn/model_selection/_validation.py\u001b[0m in \u001b[0;36mcross_validate\u001b[0;34m(estimator, X, y, groups, scoring, cv, n_jobs, verbose, fit_params, pre_dispatch, return_train_score)\u001b[0m\n\u001b[1;32m    193\u001b[0m             \u001b[0mfit_params\u001b[0m\u001b[0;34m,\u001b[0m \u001b[0mreturn_train_score\u001b[0m\u001b[0;34m=\u001b[0m\u001b[0mreturn_train_score\u001b[0m\u001b[0;34m,\u001b[0m\u001b[0;34m\u001b[0m\u001b[0m\n\u001b[1;32m    194\u001b[0m             return_times=True)\n\u001b[0;32m--> 195\u001b[0;31m         for train, test in cv.split(X, y, groups))\n\u001b[0m\u001b[1;32m    196\u001b[0m \u001b[0;34m\u001b[0m\u001b[0m\n\u001b[1;32m    197\u001b[0m     \u001b[0;32mif\u001b[0m \u001b[0mreturn_train_score\u001b[0m\u001b[0;34m:\u001b[0m\u001b[0;34m\u001b[0m\u001b[0m\n",
      "\u001b[0;32m~/anaconda3/lib/python3.6/site-packages/sklearn/externals/joblib/parallel.py\u001b[0m in \u001b[0;36m__call__\u001b[0;34m(self, iterable)\u001b[0m\n\u001b[1;32m    777\u001b[0m             \u001b[0;31m# was dispatched. In particular this covers the edge\u001b[0m\u001b[0;34m\u001b[0m\u001b[0;34m\u001b[0m\u001b[0m\n\u001b[1;32m    778\u001b[0m             \u001b[0;31m# case of Parallel used with an exhausted iterator.\u001b[0m\u001b[0;34m\u001b[0m\u001b[0;34m\u001b[0m\u001b[0m\n\u001b[0;32m--> 779\u001b[0;31m             \u001b[0;32mwhile\u001b[0m \u001b[0mself\u001b[0m\u001b[0;34m.\u001b[0m\u001b[0mdispatch_one_batch\u001b[0m\u001b[0;34m(\u001b[0m\u001b[0miterator\u001b[0m\u001b[0;34m)\u001b[0m\u001b[0;34m:\u001b[0m\u001b[0;34m\u001b[0m\u001b[0m\n\u001b[0m\u001b[1;32m    780\u001b[0m                 \u001b[0mself\u001b[0m\u001b[0;34m.\u001b[0m\u001b[0m_iterating\u001b[0m \u001b[0;34m=\u001b[0m \u001b[0;32mTrue\u001b[0m\u001b[0;34m\u001b[0m\u001b[0m\n\u001b[1;32m    781\u001b[0m             \u001b[0;32melse\u001b[0m\u001b[0;34m:\u001b[0m\u001b[0;34m\u001b[0m\u001b[0m\n",
      "\u001b[0;32m~/anaconda3/lib/python3.6/site-packages/sklearn/externals/joblib/parallel.py\u001b[0m in \u001b[0;36mdispatch_one_batch\u001b[0;34m(self, iterator)\u001b[0m\n\u001b[1;32m    623\u001b[0m                 \u001b[0;32mreturn\u001b[0m \u001b[0;32mFalse\u001b[0m\u001b[0;34m\u001b[0m\u001b[0m\n\u001b[1;32m    624\u001b[0m             \u001b[0;32melse\u001b[0m\u001b[0;34m:\u001b[0m\u001b[0;34m\u001b[0m\u001b[0m\n\u001b[0;32m--> 625\u001b[0;31m                 \u001b[0mself\u001b[0m\u001b[0;34m.\u001b[0m\u001b[0m_dispatch\u001b[0m\u001b[0;34m(\u001b[0m\u001b[0mtasks\u001b[0m\u001b[0;34m)\u001b[0m\u001b[0;34m\u001b[0m\u001b[0m\n\u001b[0m\u001b[1;32m    626\u001b[0m                 \u001b[0;32mreturn\u001b[0m \u001b[0;32mTrue\u001b[0m\u001b[0;34m\u001b[0m\u001b[0m\n\u001b[1;32m    627\u001b[0m \u001b[0;34m\u001b[0m\u001b[0m\n",
      "\u001b[0;32m~/anaconda3/lib/python3.6/site-packages/sklearn/externals/joblib/parallel.py\u001b[0m in \u001b[0;36m_dispatch\u001b[0;34m(self, batch)\u001b[0m\n\u001b[1;32m    586\u001b[0m         \u001b[0mdispatch_timestamp\u001b[0m \u001b[0;34m=\u001b[0m \u001b[0mtime\u001b[0m\u001b[0;34m.\u001b[0m\u001b[0mtime\u001b[0m\u001b[0;34m(\u001b[0m\u001b[0;34m)\u001b[0m\u001b[0;34m\u001b[0m\u001b[0m\n\u001b[1;32m    587\u001b[0m         \u001b[0mcb\u001b[0m \u001b[0;34m=\u001b[0m \u001b[0mBatchCompletionCallBack\u001b[0m\u001b[0;34m(\u001b[0m\u001b[0mdispatch_timestamp\u001b[0m\u001b[0;34m,\u001b[0m \u001b[0mlen\u001b[0m\u001b[0;34m(\u001b[0m\u001b[0mbatch\u001b[0m\u001b[0;34m)\u001b[0m\u001b[0;34m,\u001b[0m \u001b[0mself\u001b[0m\u001b[0;34m)\u001b[0m\u001b[0;34m\u001b[0m\u001b[0m\n\u001b[0;32m--> 588\u001b[0;31m         \u001b[0mjob\u001b[0m \u001b[0;34m=\u001b[0m \u001b[0mself\u001b[0m\u001b[0;34m.\u001b[0m\u001b[0m_backend\u001b[0m\u001b[0;34m.\u001b[0m\u001b[0mapply_async\u001b[0m\u001b[0;34m(\u001b[0m\u001b[0mbatch\u001b[0m\u001b[0;34m,\u001b[0m \u001b[0mcallback\u001b[0m\u001b[0;34m=\u001b[0m\u001b[0mcb\u001b[0m\u001b[0;34m)\u001b[0m\u001b[0;34m\u001b[0m\u001b[0m\n\u001b[0m\u001b[1;32m    589\u001b[0m         \u001b[0mself\u001b[0m\u001b[0;34m.\u001b[0m\u001b[0m_jobs\u001b[0m\u001b[0;34m.\u001b[0m\u001b[0mappend\u001b[0m\u001b[0;34m(\u001b[0m\u001b[0mjob\u001b[0m\u001b[0;34m)\u001b[0m\u001b[0;34m\u001b[0m\u001b[0m\n\u001b[1;32m    590\u001b[0m \u001b[0;34m\u001b[0m\u001b[0m\n",
      "\u001b[0;32m~/anaconda3/lib/python3.6/site-packages/sklearn/externals/joblib/_parallel_backends.py\u001b[0m in \u001b[0;36mapply_async\u001b[0;34m(self, func, callback)\u001b[0m\n\u001b[1;32m    109\u001b[0m     \u001b[0;32mdef\u001b[0m \u001b[0mapply_async\u001b[0m\u001b[0;34m(\u001b[0m\u001b[0mself\u001b[0m\u001b[0;34m,\u001b[0m \u001b[0mfunc\u001b[0m\u001b[0;34m,\u001b[0m \u001b[0mcallback\u001b[0m\u001b[0;34m=\u001b[0m\u001b[0;32mNone\u001b[0m\u001b[0;34m)\u001b[0m\u001b[0;34m:\u001b[0m\u001b[0;34m\u001b[0m\u001b[0m\n\u001b[1;32m    110\u001b[0m         \u001b[0;34m\"\"\"Schedule a func to be run\"\"\"\u001b[0m\u001b[0;34m\u001b[0m\u001b[0m\n\u001b[0;32m--> 111\u001b[0;31m         \u001b[0mresult\u001b[0m \u001b[0;34m=\u001b[0m \u001b[0mImmediateResult\u001b[0m\u001b[0;34m(\u001b[0m\u001b[0mfunc\u001b[0m\u001b[0;34m)\u001b[0m\u001b[0;34m\u001b[0m\u001b[0m\n\u001b[0m\u001b[1;32m    112\u001b[0m         \u001b[0;32mif\u001b[0m \u001b[0mcallback\u001b[0m\u001b[0;34m:\u001b[0m\u001b[0;34m\u001b[0m\u001b[0m\n\u001b[1;32m    113\u001b[0m             \u001b[0mcallback\u001b[0m\u001b[0;34m(\u001b[0m\u001b[0mresult\u001b[0m\u001b[0;34m)\u001b[0m\u001b[0;34m\u001b[0m\u001b[0m\n",
      "\u001b[0;32m~/anaconda3/lib/python3.6/site-packages/sklearn/externals/joblib/_parallel_backends.py\u001b[0m in \u001b[0;36m__init__\u001b[0;34m(self, batch)\u001b[0m\n\u001b[1;32m    330\u001b[0m         \u001b[0;31m# Don't delay the application, to avoid keeping the input\u001b[0m\u001b[0;34m\u001b[0m\u001b[0;34m\u001b[0m\u001b[0m\n\u001b[1;32m    331\u001b[0m         \u001b[0;31m# arguments in memory\u001b[0m\u001b[0;34m\u001b[0m\u001b[0;34m\u001b[0m\u001b[0m\n\u001b[0;32m--> 332\u001b[0;31m         \u001b[0mself\u001b[0m\u001b[0;34m.\u001b[0m\u001b[0mresults\u001b[0m \u001b[0;34m=\u001b[0m \u001b[0mbatch\u001b[0m\u001b[0;34m(\u001b[0m\u001b[0;34m)\u001b[0m\u001b[0;34m\u001b[0m\u001b[0m\n\u001b[0m\u001b[1;32m    333\u001b[0m \u001b[0;34m\u001b[0m\u001b[0m\n\u001b[1;32m    334\u001b[0m     \u001b[0;32mdef\u001b[0m \u001b[0mget\u001b[0m\u001b[0;34m(\u001b[0m\u001b[0mself\u001b[0m\u001b[0;34m)\u001b[0m\u001b[0;34m:\u001b[0m\u001b[0;34m\u001b[0m\u001b[0m\n",
      "\u001b[0;32m~/anaconda3/lib/python3.6/site-packages/sklearn/externals/joblib/parallel.py\u001b[0m in \u001b[0;36m__call__\u001b[0;34m(self)\u001b[0m\n\u001b[1;32m    129\u001b[0m \u001b[0;34m\u001b[0m\u001b[0m\n\u001b[1;32m    130\u001b[0m     \u001b[0;32mdef\u001b[0m \u001b[0m__call__\u001b[0m\u001b[0;34m(\u001b[0m\u001b[0mself\u001b[0m\u001b[0;34m)\u001b[0m\u001b[0;34m:\u001b[0m\u001b[0;34m\u001b[0m\u001b[0m\n\u001b[0;32m--> 131\u001b[0;31m         \u001b[0;32mreturn\u001b[0m \u001b[0;34m[\u001b[0m\u001b[0mfunc\u001b[0m\u001b[0;34m(\u001b[0m\u001b[0;34m*\u001b[0m\u001b[0margs\u001b[0m\u001b[0;34m,\u001b[0m \u001b[0;34m**\u001b[0m\u001b[0mkwargs\u001b[0m\u001b[0;34m)\u001b[0m \u001b[0;32mfor\u001b[0m \u001b[0mfunc\u001b[0m\u001b[0;34m,\u001b[0m \u001b[0margs\u001b[0m\u001b[0;34m,\u001b[0m \u001b[0mkwargs\u001b[0m \u001b[0;32min\u001b[0m \u001b[0mself\u001b[0m\u001b[0;34m.\u001b[0m\u001b[0mitems\u001b[0m\u001b[0;34m]\u001b[0m\u001b[0;34m\u001b[0m\u001b[0m\n\u001b[0m\u001b[1;32m    132\u001b[0m \u001b[0;34m\u001b[0m\u001b[0m\n\u001b[1;32m    133\u001b[0m     \u001b[0;32mdef\u001b[0m \u001b[0m__len__\u001b[0m\u001b[0;34m(\u001b[0m\u001b[0mself\u001b[0m\u001b[0;34m)\u001b[0m\u001b[0;34m:\u001b[0m\u001b[0;34m\u001b[0m\u001b[0m\n",
      "\u001b[0;32m~/anaconda3/lib/python3.6/site-packages/sklearn/externals/joblib/parallel.py\u001b[0m in \u001b[0;36m<listcomp>\u001b[0;34m(.0)\u001b[0m\n\u001b[1;32m    129\u001b[0m \u001b[0;34m\u001b[0m\u001b[0m\n\u001b[1;32m    130\u001b[0m     \u001b[0;32mdef\u001b[0m \u001b[0m__call__\u001b[0m\u001b[0;34m(\u001b[0m\u001b[0mself\u001b[0m\u001b[0;34m)\u001b[0m\u001b[0;34m:\u001b[0m\u001b[0;34m\u001b[0m\u001b[0m\n\u001b[0;32m--> 131\u001b[0;31m         \u001b[0;32mreturn\u001b[0m \u001b[0;34m[\u001b[0m\u001b[0mfunc\u001b[0m\u001b[0;34m(\u001b[0m\u001b[0;34m*\u001b[0m\u001b[0margs\u001b[0m\u001b[0;34m,\u001b[0m \u001b[0;34m**\u001b[0m\u001b[0mkwargs\u001b[0m\u001b[0;34m)\u001b[0m \u001b[0;32mfor\u001b[0m \u001b[0mfunc\u001b[0m\u001b[0;34m,\u001b[0m \u001b[0margs\u001b[0m\u001b[0;34m,\u001b[0m \u001b[0mkwargs\u001b[0m \u001b[0;32min\u001b[0m \u001b[0mself\u001b[0m\u001b[0;34m.\u001b[0m\u001b[0mitems\u001b[0m\u001b[0;34m]\u001b[0m\u001b[0;34m\u001b[0m\u001b[0m\n\u001b[0m\u001b[1;32m    132\u001b[0m \u001b[0;34m\u001b[0m\u001b[0m\n\u001b[1;32m    133\u001b[0m     \u001b[0;32mdef\u001b[0m \u001b[0m__len__\u001b[0m\u001b[0;34m(\u001b[0m\u001b[0mself\u001b[0m\u001b[0;34m)\u001b[0m\u001b[0;34m:\u001b[0m\u001b[0;34m\u001b[0m\u001b[0m\n",
      "\u001b[0;32m~/anaconda3/lib/python3.6/site-packages/sklearn/model_selection/_validation.py\u001b[0m in \u001b[0;36m_fit_and_score\u001b[0;34m(estimator, X, y, scorer, train, test, verbose, parameters, fit_params, return_train_score, return_parameters, return_n_test_samples, return_times, error_score)\u001b[0m\n\u001b[1;32m    435\u001b[0m             \u001b[0mestimator\u001b[0m\u001b[0;34m.\u001b[0m\u001b[0mfit\u001b[0m\u001b[0;34m(\u001b[0m\u001b[0mX_train\u001b[0m\u001b[0;34m,\u001b[0m \u001b[0;34m**\u001b[0m\u001b[0mfit_params\u001b[0m\u001b[0;34m)\u001b[0m\u001b[0;34m\u001b[0m\u001b[0m\n\u001b[1;32m    436\u001b[0m         \u001b[0;32melse\u001b[0m\u001b[0;34m:\u001b[0m\u001b[0;34m\u001b[0m\u001b[0m\n\u001b[0;32m--> 437\u001b[0;31m             \u001b[0mestimator\u001b[0m\u001b[0;34m.\u001b[0m\u001b[0mfit\u001b[0m\u001b[0;34m(\u001b[0m\u001b[0mX_train\u001b[0m\u001b[0;34m,\u001b[0m \u001b[0my_train\u001b[0m\u001b[0;34m,\u001b[0m \u001b[0;34m**\u001b[0m\u001b[0mfit_params\u001b[0m\u001b[0;34m)\u001b[0m\u001b[0;34m\u001b[0m\u001b[0m\n\u001b[0m\u001b[1;32m    438\u001b[0m \u001b[0;34m\u001b[0m\u001b[0m\n\u001b[1;32m    439\u001b[0m     \u001b[0;32mexcept\u001b[0m \u001b[0mException\u001b[0m \u001b[0;32mas\u001b[0m \u001b[0me\u001b[0m\u001b[0;34m:\u001b[0m\u001b[0;34m\u001b[0m\u001b[0m\n",
      "\u001b[0;32m~/anaconda3/lib/python3.6/site-packages/mlxtend/regressor/stacking_regression.py\u001b[0m in \u001b[0;36mfit\u001b[0;34m(self, X, y)\u001b[0m\n\u001b[1;32m    132\u001b[0m                 \u001b[0mprint\u001b[0m\u001b[0;34m(\u001b[0m\u001b[0m_name_estimators\u001b[0m\u001b[0;34m(\u001b[0m\u001b[0;34m(\u001b[0m\u001b[0mregr\u001b[0m\u001b[0;34m,\u001b[0m\u001b[0;34m)\u001b[0m\u001b[0;34m)\u001b[0m\u001b[0;34m[\u001b[0m\u001b[0;36m0\u001b[0m\u001b[0;34m]\u001b[0m\u001b[0;34m[\u001b[0m\u001b[0;36m1\u001b[0m\u001b[0;34m]\u001b[0m\u001b[0;34m)\u001b[0m\u001b[0;34m\u001b[0m\u001b[0m\n\u001b[1;32m    133\u001b[0m \u001b[0;34m\u001b[0m\u001b[0m\n\u001b[0;32m--> 134\u001b[0;31m             \u001b[0mregr\u001b[0m\u001b[0;34m.\u001b[0m\u001b[0mfit\u001b[0m\u001b[0;34m(\u001b[0m\u001b[0mX\u001b[0m\u001b[0;34m,\u001b[0m \u001b[0my\u001b[0m\u001b[0;34m)\u001b[0m\u001b[0;34m\u001b[0m\u001b[0m\n\u001b[0m\u001b[1;32m    135\u001b[0m \u001b[0;34m\u001b[0m\u001b[0m\n\u001b[1;32m    136\u001b[0m         \u001b[0mmeta_features\u001b[0m \u001b[0;34m=\u001b[0m \u001b[0mself\u001b[0m\u001b[0;34m.\u001b[0m\u001b[0mpredict_meta_features\u001b[0m\u001b[0;34m(\u001b[0m\u001b[0mX\u001b[0m\u001b[0;34m)\u001b[0m\u001b[0;34m\u001b[0m\u001b[0m\n",
      "\u001b[0;32m~/anaconda3/lib/python3.6/site-packages/sklearn/ensemble/forest.py\u001b[0m in \u001b[0;36mfit\u001b[0;34m(self, X, y, sample_weight)\u001b[0m\n\u001b[1;32m    325\u001b[0m                     \u001b[0mt\u001b[0m\u001b[0;34m,\u001b[0m \u001b[0mself\u001b[0m\u001b[0;34m,\u001b[0m \u001b[0mX\u001b[0m\u001b[0;34m,\u001b[0m \u001b[0my\u001b[0m\u001b[0;34m,\u001b[0m \u001b[0msample_weight\u001b[0m\u001b[0;34m,\u001b[0m \u001b[0mi\u001b[0m\u001b[0;34m,\u001b[0m \u001b[0mlen\u001b[0m\u001b[0;34m(\u001b[0m\u001b[0mtrees\u001b[0m\u001b[0;34m)\u001b[0m\u001b[0;34m,\u001b[0m\u001b[0;34m\u001b[0m\u001b[0m\n\u001b[1;32m    326\u001b[0m                     verbose=self.verbose, class_weight=self.class_weight)\n\u001b[0;32m--> 327\u001b[0;31m                 for i, t in enumerate(trees))\n\u001b[0m\u001b[1;32m    328\u001b[0m \u001b[0;34m\u001b[0m\u001b[0m\n\u001b[1;32m    329\u001b[0m             \u001b[0;31m# Collect newly grown trees\u001b[0m\u001b[0;34m\u001b[0m\u001b[0;34m\u001b[0m\u001b[0m\n",
      "\u001b[0;32m~/anaconda3/lib/python3.6/site-packages/sklearn/externals/joblib/parallel.py\u001b[0m in \u001b[0;36m__call__\u001b[0;34m(self, iterable)\u001b[0m\n\u001b[1;32m    787\u001b[0m                 \u001b[0;31m# consumption.\u001b[0m\u001b[0;34m\u001b[0m\u001b[0;34m\u001b[0m\u001b[0m\n\u001b[1;32m    788\u001b[0m                 \u001b[0mself\u001b[0m\u001b[0;34m.\u001b[0m\u001b[0m_iterating\u001b[0m \u001b[0;34m=\u001b[0m \u001b[0;32mFalse\u001b[0m\u001b[0;34m\u001b[0m\u001b[0m\n\u001b[0;32m--> 789\u001b[0;31m             \u001b[0mself\u001b[0m\u001b[0;34m.\u001b[0m\u001b[0mretrieve\u001b[0m\u001b[0;34m(\u001b[0m\u001b[0;34m)\u001b[0m\u001b[0;34m\u001b[0m\u001b[0m\n\u001b[0m\u001b[1;32m    790\u001b[0m             \u001b[0;31m# Make sure that we get a last message telling us we are done\u001b[0m\u001b[0;34m\u001b[0m\u001b[0;34m\u001b[0m\u001b[0m\n\u001b[1;32m    791\u001b[0m             \u001b[0melapsed_time\u001b[0m \u001b[0;34m=\u001b[0m \u001b[0mtime\u001b[0m\u001b[0;34m.\u001b[0m\u001b[0mtime\u001b[0m\u001b[0;34m(\u001b[0m\u001b[0;34m)\u001b[0m \u001b[0;34m-\u001b[0m \u001b[0mself\u001b[0m\u001b[0;34m.\u001b[0m\u001b[0m_start_time\u001b[0m\u001b[0;34m\u001b[0m\u001b[0m\n",
      "\u001b[0;32m~/anaconda3/lib/python3.6/site-packages/sklearn/externals/joblib/parallel.py\u001b[0m in \u001b[0;36mretrieve\u001b[0;34m(self)\u001b[0m\n\u001b[1;32m    697\u001b[0m             \u001b[0;32mtry\u001b[0m\u001b[0;34m:\u001b[0m\u001b[0;34m\u001b[0m\u001b[0m\n\u001b[1;32m    698\u001b[0m                 \u001b[0;32mif\u001b[0m \u001b[0mgetattr\u001b[0m\u001b[0;34m(\u001b[0m\u001b[0mself\u001b[0m\u001b[0;34m.\u001b[0m\u001b[0m_backend\u001b[0m\u001b[0;34m,\u001b[0m \u001b[0;34m'supports_timeout'\u001b[0m\u001b[0;34m,\u001b[0m \u001b[0;32mFalse\u001b[0m\u001b[0;34m)\u001b[0m\u001b[0;34m:\u001b[0m\u001b[0;34m\u001b[0m\u001b[0m\n\u001b[0;32m--> 699\u001b[0;31m                     \u001b[0mself\u001b[0m\u001b[0;34m.\u001b[0m\u001b[0m_output\u001b[0m\u001b[0;34m.\u001b[0m\u001b[0mextend\u001b[0m\u001b[0;34m(\u001b[0m\u001b[0mjob\u001b[0m\u001b[0;34m.\u001b[0m\u001b[0mget\u001b[0m\u001b[0;34m(\u001b[0m\u001b[0mtimeout\u001b[0m\u001b[0;34m=\u001b[0m\u001b[0mself\u001b[0m\u001b[0;34m.\u001b[0m\u001b[0mtimeout\u001b[0m\u001b[0;34m)\u001b[0m\u001b[0;34m)\u001b[0m\u001b[0;34m\u001b[0m\u001b[0m\n\u001b[0m\u001b[1;32m    700\u001b[0m                 \u001b[0;32melse\u001b[0m\u001b[0;34m:\u001b[0m\u001b[0;34m\u001b[0m\u001b[0m\n\u001b[1;32m    701\u001b[0m                     \u001b[0mself\u001b[0m\u001b[0;34m.\u001b[0m\u001b[0m_output\u001b[0m\u001b[0;34m.\u001b[0m\u001b[0mextend\u001b[0m\u001b[0;34m(\u001b[0m\u001b[0mjob\u001b[0m\u001b[0;34m.\u001b[0m\u001b[0mget\u001b[0m\u001b[0;34m(\u001b[0m\u001b[0;34m)\u001b[0m\u001b[0;34m)\u001b[0m\u001b[0;34m\u001b[0m\u001b[0m\n",
      "\u001b[0;32m~/anaconda3/lib/python3.6/multiprocessing/pool.py\u001b[0m in \u001b[0;36mget\u001b[0;34m(self, timeout)\u001b[0m\n\u001b[1;32m    636\u001b[0m \u001b[0;34m\u001b[0m\u001b[0m\n\u001b[1;32m    637\u001b[0m     \u001b[0;32mdef\u001b[0m \u001b[0mget\u001b[0m\u001b[0;34m(\u001b[0m\u001b[0mself\u001b[0m\u001b[0;34m,\u001b[0m \u001b[0mtimeout\u001b[0m\u001b[0;34m=\u001b[0m\u001b[0;32mNone\u001b[0m\u001b[0;34m)\u001b[0m\u001b[0;34m:\u001b[0m\u001b[0;34m\u001b[0m\u001b[0m\n\u001b[0;32m--> 638\u001b[0;31m         \u001b[0mself\u001b[0m\u001b[0;34m.\u001b[0m\u001b[0mwait\u001b[0m\u001b[0;34m(\u001b[0m\u001b[0mtimeout\u001b[0m\u001b[0;34m)\u001b[0m\u001b[0;34m\u001b[0m\u001b[0m\n\u001b[0m\u001b[1;32m    639\u001b[0m         \u001b[0;32mif\u001b[0m \u001b[0;32mnot\u001b[0m \u001b[0mself\u001b[0m\u001b[0;34m.\u001b[0m\u001b[0mready\u001b[0m\u001b[0;34m(\u001b[0m\u001b[0;34m)\u001b[0m\u001b[0;34m:\u001b[0m\u001b[0;34m\u001b[0m\u001b[0m\n\u001b[1;32m    640\u001b[0m             \u001b[0;32mraise\u001b[0m \u001b[0mTimeoutError\u001b[0m\u001b[0;34m\u001b[0m\u001b[0m\n",
      "\u001b[0;32m~/anaconda3/lib/python3.6/multiprocessing/pool.py\u001b[0m in \u001b[0;36mwait\u001b[0;34m(self, timeout)\u001b[0m\n\u001b[1;32m    633\u001b[0m \u001b[0;34m\u001b[0m\u001b[0m\n\u001b[1;32m    634\u001b[0m     \u001b[0;32mdef\u001b[0m \u001b[0mwait\u001b[0m\u001b[0;34m(\u001b[0m\u001b[0mself\u001b[0m\u001b[0;34m,\u001b[0m \u001b[0mtimeout\u001b[0m\u001b[0;34m=\u001b[0m\u001b[0;32mNone\u001b[0m\u001b[0;34m)\u001b[0m\u001b[0;34m:\u001b[0m\u001b[0;34m\u001b[0m\u001b[0m\n\u001b[0;32m--> 635\u001b[0;31m         \u001b[0mself\u001b[0m\u001b[0;34m.\u001b[0m\u001b[0m_event\u001b[0m\u001b[0;34m.\u001b[0m\u001b[0mwait\u001b[0m\u001b[0;34m(\u001b[0m\u001b[0mtimeout\u001b[0m\u001b[0;34m)\u001b[0m\u001b[0;34m\u001b[0m\u001b[0m\n\u001b[0m\u001b[1;32m    636\u001b[0m \u001b[0;34m\u001b[0m\u001b[0m\n\u001b[1;32m    637\u001b[0m     \u001b[0;32mdef\u001b[0m \u001b[0mget\u001b[0m\u001b[0;34m(\u001b[0m\u001b[0mself\u001b[0m\u001b[0;34m,\u001b[0m \u001b[0mtimeout\u001b[0m\u001b[0;34m=\u001b[0m\u001b[0;32mNone\u001b[0m\u001b[0;34m)\u001b[0m\u001b[0;34m:\u001b[0m\u001b[0;34m\u001b[0m\u001b[0m\n",
      "\u001b[0;32m~/anaconda3/lib/python3.6/threading.py\u001b[0m in \u001b[0;36mwait\u001b[0;34m(self, timeout)\u001b[0m\n\u001b[1;32m    549\u001b[0m             \u001b[0msignaled\u001b[0m \u001b[0;34m=\u001b[0m \u001b[0mself\u001b[0m\u001b[0;34m.\u001b[0m\u001b[0m_flag\u001b[0m\u001b[0;34m\u001b[0m\u001b[0m\n\u001b[1;32m    550\u001b[0m             \u001b[0;32mif\u001b[0m \u001b[0;32mnot\u001b[0m \u001b[0msignaled\u001b[0m\u001b[0;34m:\u001b[0m\u001b[0;34m\u001b[0m\u001b[0m\n\u001b[0;32m--> 551\u001b[0;31m                 \u001b[0msignaled\u001b[0m \u001b[0;34m=\u001b[0m \u001b[0mself\u001b[0m\u001b[0;34m.\u001b[0m\u001b[0m_cond\u001b[0m\u001b[0;34m.\u001b[0m\u001b[0mwait\u001b[0m\u001b[0;34m(\u001b[0m\u001b[0mtimeout\u001b[0m\u001b[0;34m)\u001b[0m\u001b[0;34m\u001b[0m\u001b[0m\n\u001b[0m\u001b[1;32m    552\u001b[0m             \u001b[0;32mreturn\u001b[0m \u001b[0msignaled\u001b[0m\u001b[0;34m\u001b[0m\u001b[0m\n\u001b[1;32m    553\u001b[0m \u001b[0;34m\u001b[0m\u001b[0m\n",
      "\u001b[0;32m~/anaconda3/lib/python3.6/threading.py\u001b[0m in \u001b[0;36mwait\u001b[0;34m(self, timeout)\u001b[0m\n\u001b[1;32m    293\u001b[0m         \u001b[0;32mtry\u001b[0m\u001b[0;34m:\u001b[0m    \u001b[0;31m# restore state no matter what (e.g., KeyboardInterrupt)\u001b[0m\u001b[0;34m\u001b[0m\u001b[0m\n\u001b[1;32m    294\u001b[0m             \u001b[0;32mif\u001b[0m \u001b[0mtimeout\u001b[0m \u001b[0;32mis\u001b[0m \u001b[0;32mNone\u001b[0m\u001b[0;34m:\u001b[0m\u001b[0;34m\u001b[0m\u001b[0m\n\u001b[0;32m--> 295\u001b[0;31m                 \u001b[0mwaiter\u001b[0m\u001b[0;34m.\u001b[0m\u001b[0macquire\u001b[0m\u001b[0;34m(\u001b[0m\u001b[0;34m)\u001b[0m\u001b[0;34m\u001b[0m\u001b[0m\n\u001b[0m\u001b[1;32m    296\u001b[0m                 \u001b[0mgotit\u001b[0m \u001b[0;34m=\u001b[0m \u001b[0;32mTrue\u001b[0m\u001b[0;34m\u001b[0m\u001b[0m\n\u001b[1;32m    297\u001b[0m             \u001b[0;32melse\u001b[0m\u001b[0;34m:\u001b[0m\u001b[0;34m\u001b[0m\u001b[0m\n",
      "\u001b[0;31mKeyboardInterrupt\u001b[0m: "
     ]
    }
   ],
   "source": [
    "from xgboost.sklearn import XGBRegressor\n",
    "from mlxtend.regressor import StackingRegressor,StackingCVRegressor\n",
    "from sklearn.svm import SVR\n",
    "\n",
    "results = {}\n",
    "sc= RobustScaler()\n",
    "for storeid in train_df.StoreID.unique():\n",
    "    train = train_df[train_df.StoreID == storeid]\n",
    "    y_train = train.NumberOfSales\n",
    "    X_train = train.drop('NumberOfSales',axis = 1)\n",
    "    X_train = X_train.drop('Date',axis=1)\n",
    "    X_train_scaled = sc.fit_transform(X_train)\n",
    "    \n",
    "    model = RandomForestRegressor(n_estimators=500,n_jobs=-1)\n",
    "    model2 =XGBRegressor(silent=False,n_jobs=-1)\n",
    "    stregr = StackingRegressor(regressors=[model,model2], \n",
    "                           meta_regressor=)\n",
    "\n",
    "\n",
    "    kfold = KFold(n_splits=10,shuffle = True, random_state=7)\n",
    "    results[storeid] = cross_val_score(stregr, X_train_scaled, y_train, scoring='r2', cv=kfold)\n",
    "    print('Cross-validation for {} -> score: {:.4f} with +/- {:.4f}'\\\n",
    "          .format(storeid,results[storeid].mean(),results[storeid].std()))"
   ]
  },
  {
   "cell_type": "markdown",
   "metadata": {},
   "source": [
    "## Feature importance"
   ]
  },
  {
   "cell_type": "code",
   "execution_count": 86,
   "metadata": {},
   "outputs": [
    {
     "name": "stdout",
     "output_type": "stream",
     "text": [
      " 1 Region_PD                      0.999999\n",
      " 2 Max_Sea_Level_PressurehPa      0.000000\n",
      " 3 HolidaysWeekAfter              0.000000\n",
      " 4 Min_Dew_PointC                 0.000000\n",
      " 5 Max_Humidity                   0.000000\n",
      " 6 Date                           0.000000\n",
      " 7 DayOfYear                      0.000000\n",
      " 8 Mean_Sea_Level_PressurehPa     0.000000\n",
      " 9 WeekOfYear                     0.000000\n",
      "10 Max_TemperatureC               0.000000\n",
      "11 Region_PopulationK             0.000000\n",
      "12 Min_Humidity                   0.000000\n",
      "13 Mean_Dew_PointC                0.000000\n",
      "14 month                          0.000000\n",
      "15 Mean_TemperatureC              0.000000\n",
      "16 Max_Dew_PointC                 0.000000\n",
      "17 Max_VisibilityKm               0.000000\n",
      "18 Precipitationmm                0.000000\n",
      "19 Mean_Humidity                  0.000000\n",
      "20 Events_Rain                    0.000000\n",
      "21 Min_Sea_Level_PressurehPa      0.000000\n",
      "22 NearestCompetitor              0.000000\n",
      "23 Mean_VisibilityKm              0.000000\n",
      "24 Max_Wind_SpeedKm_h             0.000000\n",
      "25 Region_GDP                     0.000000\n",
      "26 StoreType_Hyper Market         0.000000\n",
      "27 Region_AreaKM2                 0.000000\n",
      "28 IsOpen                         0.000000\n",
      "29 day                            0.000000\n",
      "30 HasPromotions                  0.000000\n",
      "31 Region_4                       0.000000\n",
      "32 Region_3                       0.000000\n",
      "33 Mean_Wind_SpeedKm_h            0.000000\n",
      "34 CloudCover                     0.000000\n",
      "35 Min_TemperatureC               0.000000\n",
      "36 Min_VisibilitykM               0.000000\n",
      "37 StoreID                        0.000000\n",
      "38 Hol_and_open                   0.000000\n",
      "39 PromoWeekBefore                0.000000\n",
      "40 StoreType_Shopping Center      0.000000\n",
      "41 Events_Normal                  0.000000\n",
      "42 WindDirDegrees                 0.000000\n",
      "43 DaysInMonth                    0.000000\n",
      "44 year                           0.000000\n",
      "45 Events_Fog-Rain                0.000000\n",
      "46 AssortmentType_With Non-Food Department 0.000000\n",
      "47 Region_0                       0.000000\n",
      "48 Events_Fog                     0.000000\n",
      "49 StoreType_Standard Market      0.000000\n",
      "50 Region_1                       0.000000\n",
      "51 AssortmentType_General         0.000000\n",
      "52 HolidaysWeekCurrent            0.000000\n",
      "53 PromoWeekAfter                 0.000000\n",
      "54 PromoWeekCurrent               0.000000\n",
      "55 HolidaysWeekBefore             0.000000\n",
      "56 Events_Rain-Thunderstorm       0.000000\n",
      "57 Region_10                      0.000000\n",
      "58 Region_9                       0.000000\n",
      "59 Events_Fog-Rain-Thunderstorm   0.000000\n",
      "60 StoreType_Super Market         0.000000\n",
      "61 Events_Snow                    0.000000\n",
      "62 Events_Rain-Snow               0.000000\n",
      "63 Region_2                       0.000000\n",
      "64 Events_Rain-Hail               0.000000\n",
      "65 Events_Fog-Rain-Snow           0.000000\n",
      "66 Region_7                       0.000000\n",
      "67 Events_Rain-Snow-Hail          0.000000\n",
      "68 Events_Fog-Snow                0.000000\n",
      "69 Region_5                       0.000000\n",
      "70 AssortmentType_With Fish Department 0.000000\n",
      "71 Events_Thunderstorm            0.000000\n",
      "72 Region_6                       0.000000\n",
      "73 Region_8                       0.000000\n",
      "74 Events_Fog-Rain-Hail-Thunderstorm 0.000000\n",
      "75 Events_Snow-Hail               0.000000\n",
      "76 Events_Fog-Rain-Snow-Hail      0.000000\n",
      "77 Events_Rain-Snow-Hail-Thunderstorm 0.000000\n",
      "78 Events_Rain-Snow-Thunderstorm  0.000000\n",
      "79 Events_Rain-Hail-Thunderstorm  0.000000\n",
      "80 Events_Fog-Rain-Hail           0.000000\n",
      "81 Events_Fog-Thunderstorm        0.000000\n",
      "82 IsHoliday                      0.000000\n",
      "83 Events_Fog-Snow-Hail           0.000000\n"
     ]
    }
   ],
   "source": [
    "rf = RandomForestRegressor(n_estimators=50,n_jobs=-1).fit(X_scaled,y)\n",
    "\n",
    "train_copy  = train_df.drop(['NumberOfSales'], axis=1)\n",
    "feat_labels = train_copy.columns[0:]\n",
    "importances = rf.feature_importances_\n",
    "indices = np.argsort(importances)[::-1]\n",
    "for f in range(X_scaled.shape[1]):\n",
    "    print(\"%2d %-*s %f\" %(f+1,30,feat_labels[indices[f]],importances[indices[f]]))\n"
   ]
  },
  {
   "cell_type": "markdown",
   "metadata": {},
   "source": [
    "## Plotting R^2 Error for each month"
   ]
  },
  {
   "cell_type": "code",
   "execution_count": 97,
   "metadata": {},
   "outputs": [
    {
     "data": {
      "application/vnd.plotly.v1+json": {
       "data": [
        {
         "name": "R^2 per region",
         "type": "bar",
         "x": [
          "December2017"
         ],
         "y": [
          0.8490218874357522
         ]
        },
        {
         "line": {
          "color": "rgb(0, 0, 0)",
          "dash": "dash",
          "shape": "hv",
          "width": 2
         },
         "name": "Mean",
         "type": "scatter",
         "x": [
          "December2017"
         ],
         "y": [
          0.8490218874357522
         ]
        }
       ],
       "layout": {
        "title": "R^2",
        "yaxis": {
         "range": [
          0,
          1
         ]
        }
       }
      },
      "text/html": [
       "<div id=\"e583efdf-6c54-4c36-b33c-035bae2a5b05\" style=\"height: 525px; width: 100%;\" class=\"plotly-graph-div\"></div><script type=\"text/javascript\">require([\"plotly\"], function(Plotly) { window.PLOTLYENV=window.PLOTLYENV || {};window.PLOTLYENV.BASE_URL=\"https://plot.ly\";Plotly.newPlot(\"e583efdf-6c54-4c36-b33c-035bae2a5b05\", [{\"type\": \"bar\", \"x\": [\"December2017\"], \"y\": [0.8490218874357522], \"name\": \"R^2 per region\"}, {\"type\": \"scatter\", \"x\": [\"December2017\"], \"y\": [0.8490218874357522], \"line\": {\"color\": \"rgb(0, 0, 0)\", \"width\": 2, \"dash\": \"dash\", \"shape\": \"hv\"}, \"name\": \"Mean\"}], {\"title\": \"R^2\", \"yaxis\": {\"range\": [0, 1]}}, {\"showLink\": true, \"linkText\": \"Export to plot.ly\"})});</script>"
      ],
      "text/vnd.plotly.v1+html": [
       "<div id=\"e583efdf-6c54-4c36-b33c-035bae2a5b05\" style=\"height: 525px; width: 100%;\" class=\"plotly-graph-div\"></div><script type=\"text/javascript\">require([\"plotly\"], function(Plotly) { window.PLOTLYENV=window.PLOTLYENV || {};window.PLOTLYENV.BASE_URL=\"https://plot.ly\";Plotly.newPlot(\"e583efdf-6c54-4c36-b33c-035bae2a5b05\", [{\"type\": \"bar\", \"x\": [\"December2017\"], \"y\": [0.8490218874357522], \"name\": \"R^2 per region\"}, {\"type\": \"scatter\", \"x\": [\"December2017\"], \"y\": [0.8490218874357522], \"line\": {\"color\": \"rgb(0, 0, 0)\", \"width\": 2, \"dash\": \"dash\", \"shape\": \"hv\"}, \"name\": \"Mean\"}], {\"title\": \"R^2\", \"yaxis\": {\"range\": [0, 1]}}, {\"showLink\": true, \"linkText\": \"Export to plot.ly\"})});</script>"
      ]
     },
     "metadata": {},
     "output_type": "display_data"
    }
   ],
   "source": [
    "# os.system(\"say -v \"+'Alice'+\" Ho fatto\")\n",
    "trace1 = go.Bar(\n",
    "            x=prediction_result['Training_dates'],\n",
    "            y=prediction_result['Scores'],\n",
    "            name='R^2 per region'\n",
    "    )\n",
    "\n",
    "trace2 = go.Scatter(x=prediction_result['Training_dates'],\n",
    "                    y=[np.asarray(prediction_result['Scores']).mean()]*len(prediction_result['Scores']),\n",
    "                    line = dict(color=('rgb(0, 0, 0)'),\n",
    "                    width=2, dash='dash',shape='hv'),\n",
    "                    name = 'Mean'\n",
    "                   )\n",
    "\n",
    "layout = go.Layout(\n",
    "    title= 'R^2',\n",
    "    yaxis=dict(\n",
    "        range=[0,1]\n",
    "    )\n",
    ")\n",
    "data=[trace1,trace2]\n",
    "fig = go.Figure(data=data, layout=layout)\n",
    "iplot(fig, filename='basic-bar')"
   ]
  },
  {
   "cell_type": "markdown",
   "metadata": {},
   "source": [
    "## Predicted vs Real for march17"
   ]
  },
  {
   "cell_type": "code",
   "execution_count": 62,
   "metadata": {},
   "outputs": [
    {
     "data": {
      "application/vnd.plotly.v1+json": {
       "data": [
        {
         "name": "Real sales",
         "type": "bar",
         "x": [
          0,
          1,
          2,
          3,
          4,
          5,
          6,
          7,
          8,
          9,
          10,
          11
         ],
         "y": [
          154686740,
          63523918,
          246057524,
          313946172,
          60787088,
          132197718,
          88189681,
          169196949,
          67000796,
          483214853,
          251681463
         ]
        },
        {
         "name": "Preicted Sales",
         "type": "bar",
         "x": [
          0,
          1,
          2,
          3,
          4,
          5,
          6,
          7,
          8,
          9,
          10,
          11
         ],
         "y": [
          161408319,
          66268304,
          261341351,
          327854027,
          63496169,
          138002266,
          92151703,
          176669913,
          69977947,
          504978608,
          262566905
         ]
        }
       ],
       "layout": {
        "barmode": "group",
        "title": "Real vs Predicted sales per region in March17",
        "xaxis": {
         "title": "Region"
        },
        "yaxis": {
         "title": "Sales"
        }
       }
      },
      "text/html": [
       "<div id=\"5e12edbd-3c65-456b-9478-feb16bb0e0b6\" style=\"height: 525px; width: 100%;\" class=\"plotly-graph-div\"></div><script type=\"text/javascript\">require([\"plotly\"], function(Plotly) { window.PLOTLYENV=window.PLOTLYENV || {};window.PLOTLYENV.BASE_URL=\"https://plot.ly\";Plotly.newPlot(\"5e12edbd-3c65-456b-9478-feb16bb0e0b6\", [{\"type\": \"bar\", \"x\": [0, 1, 2, 3, 4, 5, 6, 7, 8, 9, 10, 11], \"y\": [154686740, 63523918, 246057524, 313946172, 60787088, 132197718, 88189681, 169196949, 67000796, 483214853, 251681463], \"name\": \"Real sales\"}, {\"type\": \"bar\", \"x\": [0, 1, 2, 3, 4, 5, 6, 7, 8, 9, 10, 11], \"y\": [161408319, 66268304, 261341351, 327854027, 63496169, 138002266, 92151703, 176669913, 69977947, 504978608, 262566905], \"name\": \"Preicted Sales\"}], {\"barmode\": \"group\", \"title\": \"Real vs Predicted sales per region in March17\", \"yaxis\": {\"title\": \"Sales\"}, \"xaxis\": {\"title\": \"Region\"}}, {\"showLink\": true, \"linkText\": \"Export to plot.ly\"})});</script>"
      ],
      "text/vnd.plotly.v1+html": [
       "<div id=\"5e12edbd-3c65-456b-9478-feb16bb0e0b6\" style=\"height: 525px; width: 100%;\" class=\"plotly-graph-div\"></div><script type=\"text/javascript\">require([\"plotly\"], function(Plotly) { window.PLOTLYENV=window.PLOTLYENV || {};window.PLOTLYENV.BASE_URL=\"https://plot.ly\";Plotly.newPlot(\"5e12edbd-3c65-456b-9478-feb16bb0e0b6\", [{\"type\": \"bar\", \"x\": [0, 1, 2, 3, 4, 5, 6, 7, 8, 9, 10, 11], \"y\": [154686740, 63523918, 246057524, 313946172, 60787088, 132197718, 88189681, 169196949, 67000796, 483214853, 251681463], \"name\": \"Real sales\"}, {\"type\": \"bar\", \"x\": [0, 1, 2, 3, 4, 5, 6, 7, 8, 9, 10, 11], \"y\": [161408319, 66268304, 261341351, 327854027, 63496169, 138002266, 92151703, 176669913, 69977947, 504978608, 262566905], \"name\": \"Preicted Sales\"}], {\"barmode\": \"group\", \"title\": \"Real vs Predicted sales per region in March17\", \"yaxis\": {\"title\": \"Sales\"}, \"xaxis\": {\"title\": \"Region\"}}, {\"showLink\": true, \"linkText\": \"Export to plot.ly\"})});</script>"
      ]
     },
     "metadata": {},
     "output_type": "display_data"
    }
   ],
   "source": [
    "regions=list(['Region_'+str(i) for i in range(0,11)])\n",
    "data_real=[]\n",
    "data_pred=[]\n",
    "for region in regions:\n",
    "    region_df_real = prediction_result['Training_df'][0][prediction_result['Training_df'][0][region]==1]\n",
    "    region_df_pred = prediction_result['Predicted_df'][0][prediction_result['Predicted_df'][0][region]==1]\n",
    "    sales_real = region_df_real['NumberOfSales'].sum()\n",
    "    sales_pred= region_df_pred['NumberOfSales'].sum()\n",
    "    data_real.append(sales_real)\n",
    "    data_pred.append(sales_pred)\n",
    "\n",
    "trace_r=go.Bar(x=np.arange(0,12),\n",
    "                y=data_real,\n",
    "                name='Real sales'\n",
    "                )\n",
    "\n",
    "trace_p=go.Bar(x=np.arange(0,12),\n",
    "                 y=data_pred,\n",
    "                 name='Preicted Sales')\n",
    "\n",
    "data_tot = [trace_r, trace_p]\n",
    "layout = go.Layout(\n",
    "    barmode='group',\n",
    "    title='Real vs Predicted sales per region in March17',\n",
    "    yaxis=dict(title='Sales'),\n",
    "    xaxis=dict(title='Region')\n",
    ")\n",
    "\n",
    "fig = go.Figure(data=data_tot, layout=layout)\n",
    "iplot(fig, filename='Population info')"
   ]
  },
  {
   "cell_type": "code",
   "execution_count": null,
   "metadata": {},
   "outputs": [],
   "source": []
  },
  {
   "cell_type": "code",
   "execution_count": null,
   "metadata": {},
   "outputs": [],
   "source": []
  }
 ],
 "metadata": {
  "kernelspec": {
   "display_name": "Python 3",
   "language": "python",
   "name": "python3"
  },
  "language_info": {
   "codemirror_mode": {
    "name": "ipython",
    "version": 3
   },
   "file_extension": ".py",
   "mimetype": "text/x-python",
   "name": "python",
   "nbconvert_exporter": "python",
   "pygments_lexer": "ipython3",
   "version": "3.6.2"
  }
 },
 "nbformat": 4,
 "nbformat_minor": 2
}
